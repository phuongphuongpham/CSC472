{
 "cells": [
  {
   "cell_type": "code",
   "execution_count": 340,
   "metadata": {
    "scrolled": true
   },
   "outputs": [],
   "source": [
    "import numpy as np\n",
    "import igl\n",
    "import meshplot as mp"
   ]
  },
  {
   "cell_type": "code",
   "execution_count": 341,
   "metadata": {
    "scrolled": true
   },
   "outputs": [],
   "source": [
    "# Utility function to generate a tet grid\n",
    "# n is a 3-tuple with the number of cell in every direction\n",
    "# mmin/mmax are the grid bounding box corners\n",
    "\n",
    "def tet_grid(n, mmin, mmax):\n",
    "    nx = n[0]\n",
    "    ny = n[1]\n",
    "    nz = n[2]\n",
    "    \n",
    "    delta = mmax-mmin\n",
    "    \n",
    "    deltax = delta[0]/(nx-1)\n",
    "    deltay = delta[1]/(ny-1)\n",
    "    deltaz = delta[2]/(nz-1)\n",
    "    \n",
    "    T = np.zeros(((nx-1)*(ny-1)*(nz-1)*6, 4), dtype=np.int64)\n",
    "    V = np.zeros((nx*ny*nz, 3))\n",
    "\n",
    "    mapping = -np.ones((nx, ny, nz), dtype=np.int64)\n",
    "\n",
    "\n",
    "    index = 0\n",
    "    for i in range(nx):\n",
    "        for j in range(ny):\n",
    "            for k in range(nz):\n",
    "                mapping[i, j, k] = index\n",
    "                V[index, :] = [i*deltax, j*deltay, k*deltaz]\n",
    "                index += 1\n",
    "    assert(index == V.shape[0])\n",
    "    \n",
    "    tets = np.array([\n",
    "        [0,1,3,4],\n",
    "        [5,2,6,7],\n",
    "        [4,1,5,3],\n",
    "        [4,3,7,5],\n",
    "        [3,1,5,2],\n",
    "        [2,3,7,5]\n",
    "    ])\n",
    "    \n",
    "    index = 0\n",
    "    for i in range(nx-1):\n",
    "        for j in range(ny-1):\n",
    "            for k in range(nz-1):\n",
    "                indices = [\n",
    "                    (i,   j,   k),\n",
    "                    (i+1, j,   k),\n",
    "                    (i+1, j+1, k),\n",
    "                    (i,   j+1, k),\n",
    "\n",
    "                    (i,   j,   k+1),\n",
    "                    (i+1, j,   k+1),\n",
    "                    (i+1, j+1, k+1),\n",
    "                    (i,   j+1, k+1),\n",
    "                ]\n",
    "                \n",
    "                for t in range(tets.shape[0]):\n",
    "                    tmp = [mapping[indices[ii]] for ii in tets[t, :]]\n",
    "                    T[index, :]=tmp\n",
    "                    index += 1\n",
    "                    \n",
    "    assert(index == T.shape[0])\n",
    "    \n",
    "    V += mmin\n",
    "    return V, T"
   ]
  },
  {
   "cell_type": "markdown",
   "metadata": {},
   "source": [
    "# Reading point cloud"
   ]
  },
  {
   "cell_type": "code",
   "execution_count": 342,
   "metadata": {},
   "outputs": [
    {
     "data": {
      "application/vnd.jupyter.widget-view+json": {
       "model_id": "7ee8e33a030f416c9c218262430c8759",
       "version_major": 2,
       "version_minor": 0
      },
      "text/plain": [
       "Renderer(camera=PerspectiveCamera(children=(DirectionalLight(color='white', intensity=0.6, position=(5.0, -23.…"
      ]
     },
     "metadata": {},
     "output_type": "display_data"
    },
    {
     "data": {
      "text/plain": [
       "<meshplot.Viewer.Viewer at 0x22f99ddf070>"
      ]
     },
     "execution_count": 342,
     "metadata": {},
     "output_type": "execute_result"
    }
   ],
   "source": [
    "# pi: cat mesh\n",
    "# v: vertex connectivity\n",
    "# n: vertex normals\n",
    "pi, v = igl.read_triangle_mesh(\"data/cat.off\")\n",
    "pi /= 10\n",
    "ni = igl.per_vertex_normals(pi, v)\n",
    "mp.plot(pi, shading={\"point_size\": 8})"
   ]
  },
  {
   "cell_type": "code",
   "execution_count": 343,
   "metadata": {},
   "outputs": [],
   "source": [
    "# find a closest point to \"point\" in the \"points\" cloud\n",
    "# return index in \"points\"\n",
    "def find_closest_point(point, points):\n",
    "    distances = np.linalg.norm(points - point, axis=1)\n",
    "    return np.argmin(distances)"
   ]
  },
  {
   "cell_type": "code",
   "execution_count": 344,
   "metadata": {},
   "outputs": [],
   "source": [
    "def constraints(points, normals, ep = 0.8):\n",
    "    p_value = [] # closest points\n",
    "    p_location = [] # values corresponding to p_value, indicate whether inside, outside or on surface\n",
    "\n",
    "    for i, p in enumerate(points):\n",
    "        n = normals[i] # point's normal\n",
    "\n",
    "        # Add a constraint f(pi) = di = 0\n",
    "        p_value.append(p)\n",
    "        p_location.append(0)\n",
    "\n",
    "        # Compute p+ and p-\n",
    "        p_plus  = p + ep * n\n",
    "        p_minus = p - ep * n\n",
    "\n",
    "        index_plus  = find_closest_point(p_plus, points)\n",
    "        index_minus = find_closest_point(p_minus, points)\n",
    "\n",
    "        # closest pt to p+ and p- should be at least p itself\n",
    "        # this means distance_closest_+/- should < distance_+/-_to_p \n",
    "        closest_p_plus  = points[index_plus]  \n",
    "        closest_p_minus = points[index_minus]\n",
    "\n",
    "        distance_closest_plus  = np.linalg.norm(p_plus -closest_p_plus)\n",
    "        distance_closest_minus = np.linalg.norm(p_minus - closest_p_minus)\n",
    "\n",
    "        distance_plus_to_p = np.linalg.norm(p_plus - p)\n",
    "        distance_minus_to_p = np.linalg.norm(p_minus - p)\n",
    "\n",
    "        ep_plus = ep \n",
    "        while distance_closest_plus > distance_plus_to_p:\n",
    "            ep_plus /= 2\n",
    "            p_plus = p + ep_plus * n\n",
    "            index_plus  = find_closest_point(p_plus, points)\n",
    "            closest_p_plus  = points[index_plus]\n",
    "            distance_closest_plus  = np.linalg.norm(p_plus - closest_p_plus)\n",
    "            distance_plus_to_p = np.linalg.norm(p_plus - p)\n",
    "        \n",
    "        ep_minus = ep \n",
    "        while distance_closest_minus > distance_minus_to_p:\n",
    "            ep_minus /= 2\n",
    "            p_minus = p - ep_minus * n\n",
    "            index_minus  = find_closest_point(p_minus, points)\n",
    "            closest_p_minus  = points[index_minus]\n",
    "            distance_closest_minus  = np.linalg.norm(p_minus - closest_p_minus)\n",
    "            distance_minus_to_p = np.linalg.norm(p_minus - p)\n",
    "\n",
    "        p_value.append(p_plus)\n",
    "        p_value.append(p_minus)\n",
    "        p_location.append(ep_plus)\n",
    "        p_location.append(-ep_minus)\n",
    "\n",
    "        # print(p, \": \", p_plus, ep_plus, p_minus, -ep_minus)\n",
    "    return np.array(p_value), np.array(p_location)\n",
    "\n",
    "p_value, p_location = constraints(pi, ni)\n"
   ]
  },
  {
   "cell_type": "code",
   "execution_count": 345,
   "metadata": {},
   "outputs": [
    {
     "data": {
      "application/vnd.jupyter.widget-view+json": {
       "model_id": "5def16f521634322828c6c9fb69bccc6",
       "version_major": 2,
       "version_minor": 0
      },
      "text/plain": [
       "Renderer(camera=PerspectiveCamera(children=(DirectionalLight(color='white', intensity=0.6, position=(5.0067558…"
      ]
     },
     "metadata": {},
     "output_type": "display_data"
    }
   ],
   "source": [
    "def plot_colors(p_value, p_location):\n",
    "    colors = np.zeros((len(p_location), 3)) \n",
    "\n",
    "    for i, l in enumerate(p_location):\n",
    "        if l == 0:\n",
    "            colors[i] = [0, 0, 1]  #blue, on\n",
    "        elif l > 0:\n",
    "            colors[i] = [1, 0, 0]  #red, outside\n",
    "        else:\n",
    "            colors[i] = [0, 1, 0]  #green, inside\n",
    "\n",
    "    mp.plot(p_value, shading={\"point_size\": 4.5}, c=colors)\n",
    "\n",
    "plot_colors(p_value, p_location)\n"
   ]
  },
  {
   "cell_type": "markdown",
   "metadata": {},
   "source": [
    "# MLS function"
   ]
  },
  {
   "cell_type": "code",
   "execution_count": 346,
   "metadata": {
    "scrolled": true
   },
   "outputs": [],
   "source": [
    "# Parameters\n",
    "bbox_min = np.array([-1., -1., -1.])\n",
    "bbox_max = np.array([1., 1., 1.])\n",
    "bbox_diag = np.linalg.norm(bbox_max - bbox_min)\n",
    "\n",
    "n = 10"
   ]
  },
  {
   "cell_type": "code",
   "execution_count": 347,
   "metadata": {
    "scrolled": true
   },
   "outputs": [],
   "source": [
    "# Generate grid n x n x n\n",
    "x, T = tet_grid((n, n, n), bbox_min - 0.05 * bbox_diag, bbox_max + 0.05 * bbox_diag)\n",
    "\n",
    "#Compute implicit sphere function\n",
    "center = np.array([0., 0., 0.])\n",
    "radius = 1\n",
    "fx = np.linalg.norm(x-center, axis=1) - radius"
   ]
  },
  {
   "cell_type": "code",
   "execution_count": 348,
   "metadata": {
    "scrolled": false
   },
   "outputs": [
    {
     "data": {
      "application/vnd.jupyter.widget-view+json": {
       "model_id": "2d40a8ff2652404db17dbada4cff72b1",
       "version_major": 2,
       "version_minor": 0
      },
      "text/plain": [
       "Renderer(camera=PerspectiveCamera(children=(DirectionalLight(color='white', intensity=0.6, position=(0.0, 0.0,…"
      ]
     },
     "metadata": {},
     "output_type": "display_data"
    },
    {
     "data": {
      "text/plain": [
       "<meshplot.Viewer.Viewer at 0x22f9a9f0610>"
      ]
     },
     "execution_count": 348,
     "metadata": {},
     "output_type": "execute_result"
    }
   ],
   "source": [
    "# Treshold fx to visualize inside outside\n",
    "\n",
    "ind = np.zeros_like(fx)\n",
    "ind[fx >= 0] = 1\n",
    "ind[fx < 0] = -1\n",
    "mp.plot(x, c=ind, shading={\"point_size\": 0.1,\"width\": 800, \"height\": 800})"
   ]
  },
  {
   "cell_type": "code",
   "execution_count": 349,
   "metadata": {},
   "outputs": [
    {
     "data": {
      "application/vnd.jupyter.widget-view+json": {
       "model_id": "f523cb4c618e41f2a8b660087ec97416",
       "version_major": 2,
       "version_minor": 0
      },
      "text/plain": [
       "Renderer(camera=PerspectiveCamera(children=(DirectionalLight(color='white', intensity=0.6, position=(0.0, 0.0,…"
      ]
     },
     "metadata": {},
     "output_type": "display_data"
    },
    {
     "data": {
      "text/plain": [
       "<meshplot.Viewer.Viewer at 0x22f9bca55d0>"
      ]
     },
     "execution_count": 349,
     "metadata": {},
     "output_type": "execute_result"
    }
   ],
   "source": [
    "def wendland_weight(r, wendlandRadius):\n",
    "    # r = r / wendlandRadius # normalized r\n",
    "    # r = np.maximum(0, 1 - r / wendlandRadius)\n",
    "    if r >= 1:\n",
    "        return 0\n",
    "    return (1 - r) ** 4 * (4 * r + 1) \n",
    "\n",
    "def closest_points(point, points, h):\n",
    "    indices = []\n",
    "    distances = np.linalg.norm(points - point, axis=1)\n",
    "    # print(distances)\n",
    "    for i, d in enumerate(distances):\n",
    "        if d < h:\n",
    "            indices.append(i)\n",
    "    return indices\n",
    "\n",
    "def mls_interpolation(x, p_value, p_location, wendlandRadius, polyDegree):\n",
    "    coefficients = (polyDegree + 1) * (polyDegree + 2) * (polyDegree + 3) // 6\n",
    "\n",
    "    fx = [] # initialize grid point xi values\n",
    "\n",
    "    for i, xi in enumerate(x):\n",
    "        indices = closest_points(xi, p_value, wendlandRadius)\n",
    "        # print(indices)\n",
    "        if len(indices) < 2*coefficients:\n",
    "            fx.append(1.0)\n",
    "            continue\n",
    "        # print(indices)\n",
    "        constraints_p = p_value[indices]\n",
    "        constraints_f = p_location[indices]\n",
    "        \n",
    "        W = []\n",
    "        distances = np.linalg.norm(constraints_p - xi, axis=1)\n",
    "        for d in distances:\n",
    "            W.append(wendland_weight(d, wendlandRadius))\n",
    "        W = np.array(W)\n",
    "\n",
    "        # polynomial basis matrix\n",
    "        if polyDegree == 0:\n",
    "            A = np.ones((len(constraints_p), 1))\n",
    "        elif polyDegree == 1:\n",
    "            A = np.c_[np.ones(len(constraints_p)), constraints_p - xi]  \n",
    "        elif polyDegree == 2:\n",
    "            x_diff = constraints_p - xi\n",
    "            A = np.c_[np.ones(len(constraints_p)), x_diff, x_diff**2, x_diff[:, 0]*x_diff[:, 1], x_diff[:, 0]*x_diff[:, 2], x_diff[:, 1]*x_diff[:, 2]]\n",
    "        \n",
    "        try:\n",
    "            W = np.diag(W)\n",
    "            coeffs = np.linalg.solve(A.T @ W @ A, A.T @ W @ constraints_f)\n",
    "\n",
    "            if polyDegree == 0:\n",
    "                fx.append(np.dot(coeffs, [1]))\n",
    "            elif polyDegree == 1:\n",
    "                fx.append(np.dot(coeffs, np.array([1, xi[0], xi[1], xi[2]])))\n",
    "                # print(fx[i])\n",
    "            elif polyDegree == 2:\n",
    "                fx.append(np.dot(coeffs, np.array([1, xi[0], xi[1], xi[2], xi[0]**2, xi[0]*xi[1], xi[0]*xi[2], xi[1]**2, xi[1]*xi[2], xi[2]**2])))\n",
    "        \n",
    "        except np.linalg.LinAlgError:\n",
    "            fx.append(1.0)\n",
    "        # print(fx[i])\n",
    "    \n",
    "    fx = np.array(fx)\n",
    "    # print(fx)\n",
    "    colors = np.zeros((len(x), 3))\n",
    "    \n",
    "    for i, f in enumerate(fx):\n",
    "        if f >= 0:\n",
    "            colors[i] = [1, 0, 0]  #red, outside\n",
    "        elif f < 0:\n",
    "            colors[i] = [0, 1, 0]  #green, inside\n",
    "     \n",
    "    return fx, colors   \n",
    "\n",
    "x, T = tet_grid((n, n, n), bbox_min - 0.05 * bbox_diag, bbox_max + 0.05 * bbox_diag)\n",
    "\n",
    "p_value, p_location = constraints(pi, ni)\n",
    "# print(p_location)\n",
    "wendlandRadius = 30\n",
    "polyDegree = 1\n",
    "\n",
    "fx, colors = mls_interpolation(x, p_value, p_location, wendlandRadius, polyDegree)\n",
    "# print(fx)\n",
    "mp.plot(x, c=colors, shading={\"point_size\": 0.2, \"width\": 1000, \"height\": 1000})"
   ]
  },
  {
   "cell_type": "code",
   "execution_count": null,
   "metadata": {},
   "outputs": [
    {
     "data": {
      "application/vnd.jupyter.widget-view+json": {
       "model_id": "9c7c2f2cb6e44a229a3096c42635a8f0",
       "version_major": 2,
       "version_minor": 0
      },
      "text/plain": [
       "Renderer(camera=PerspectiveCamera(children=(DirectionalLight(color='white', intensity=0.6, position=(-6.677721…"
      ]
     },
     "metadata": {},
     "output_type": "display_data"
    },
    {
     "data": {
      "application/vnd.jupyter.widget-view+json": {
       "model_id": "91d022b3f6f74579922f1be8079b98a1",
       "version_major": 2,
       "version_minor": 0
      },
      "text/plain": [
       "Renderer(camera=PerspectiveCamera(children=(DirectionalLight(color='white', intensity=0.6, position=(14.496055…"
      ]
     },
     "metadata": {},
     "output_type": "display_data"
    },
    {
     "data": {
      "text/plain": [
       "<meshplot.Viewer.Viewer at 0x22f9aa4fe50>"
      ]
     },
     "execution_count": 350,
     "metadata": {},
     "output_type": "execute_result"
    }
   ],
   "source": [
    "luigi, ni = igl.read_triangle_mesh('data/luigi.off')\n",
    "ni = igl.per_vertex_normals(luigi, v)\n",
    "# mp.plot(luigi, shading={\"point_size\": 10})\n",
    "\n",
    "def align_GridToPCA(points):\n",
    "    centroid = np.mean(points, axis=0)\n",
    "    centered = points - centroid\n",
    "\n",
    "    covariance = np.cov(centered, rowvar=False)\n",
    "    eigvals, eigvecs = np.linalg.eigh(covariance)\n",
    "    sorted_vecs = np.argsort(-eigvals)\n",
    "    eigvecs = eigvecs[:, sorted_vecs]\n",
    "    \n",
    "    aligned_points = centered @ eigvecs\n",
    "    return aligned_points, eigvecs, centroid\n",
    "\n",
    "def pca_grid(points, n):\n",
    "    min_corner = np.min(points, axis=0)\n",
    "    max_corner = np.max(points, axis=0)\n",
    "    \n",
    "    x = np.linspace(min_corner[0], max_corner[0], n)\n",
    "    y = np.linspace(min_corner[1], max_corner[1], n)\n",
    "    z = np.linspace(min_corner[2], max_corner[2], n)\n",
    "\n",
    "    X, Y, Z = np.meshgrid(x, y, z, indexing=\"ij\")\n",
    "\n",
    "    grid_points = np.vstack([X.ravel(), Y.ravel(), Z.ravel()]).T\n",
    "\n",
    "    return grid_points\n",
    "\n",
    "\n",
    "aligned_points, eigvecs, centroid = align_GridToPCA(luigi)\n",
    "grid_pca = pca_grid(aligned_points, n= 20)\n",
    "grid = (grid_pca @ eigvecs.T) + centroid\n",
    "\n",
    "mp.plot(aligned_points, shading={\"point_size\": 10})\n",
    "# mp.plot(grid_pca, shading={\"point_size\": 5})\n",
    "# mp.plot(grid, shading={\"point_size\": 5})\n",
    "\n",
    "p_value, p_location = constraints(luigi, ni) \n",
    "\n",
    "wendlandRadius = 30\n",
    "polyDegree = 1\n",
    "ffx, fcolors = mls_interpolation(grid, p_value, p_location, wendlandRadius, polyDegree)\n",
    "\n",
    "mp.plot(grid, c=fcolors, shading={\"point_size\": 5})\n",
    "\n"
   ]
  },
  {
   "cell_type": "markdown",
   "metadata": {},
   "source": [
    "# Marching to extract surface"
   ]
  },
  {
   "cell_type": "code",
   "execution_count": 351,
   "metadata": {
    "scrolled": false
   },
   "outputs": [
    {
     "data": {
      "application/vnd.jupyter.widget-view+json": {
       "model_id": "19c9e6424bc24737949a9c74da00dd4e",
       "version_major": 2,
       "version_minor": 0
      },
      "text/plain": [
       "Renderer(camera=PerspectiveCamera(children=(DirectionalLight(color='white', intensity=0.6, position=(-0.003235…"
      ]
     },
     "metadata": {},
     "output_type": "display_data"
    },
    {
     "data": {
      "text/plain": [
       "<meshplot.Viewer.Viewer at 0x22f99ddee60>"
      ]
     },
     "execution_count": 351,
     "metadata": {},
     "output_type": "execute_result"
    }
   ],
   "source": [
    "# Marcing tet to extract surface\n",
    "\n",
    "sv, sf, _, _ = igl.marching_tets(x, T, fx, 0)\n",
    "mp.plot(sv, sf, shading={\"wireframe\": True})"
   ]
  },
  {
   "cell_type": "code",
   "execution_count": null,
   "metadata": {
    "scrolled": true
   },
   "outputs": [],
   "source": []
  }
 ],
 "metadata": {
  "kernelspec": {
   "display_name": "gp",
   "language": "python",
   "name": "python3"
  },
  "language_info": {
   "codemirror_mode": {
    "name": "ipython",
    "version": 3
   },
   "file_extension": ".py",
   "mimetype": "text/x-python",
   "name": "python",
   "nbconvert_exporter": "python",
   "pygments_lexer": "ipython3",
   "version": "3.10.16"
  }
 },
 "nbformat": 4,
 "nbformat_minor": 4
}
