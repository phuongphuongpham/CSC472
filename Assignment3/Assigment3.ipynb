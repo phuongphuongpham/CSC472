{
 "cells": [
  {
   "cell_type": "markdown",
   "metadata": {},
   "source": [
    "# Assigment 3"
   ]
  },
  {
   "cell_type": "code",
   "execution_count": 138,
   "metadata": {},
   "outputs": [],
   "source": [
    "import igl\n",
    "import numpy as np\n",
    "import meshplot as mp\n",
    "from scipy.sparse import diags\n"
   ]
  },
  {
   "cell_type": "code",
   "execution_count": 139,
   "metadata": {},
   "outputs": [
    {
     "data": {
      "application/vnd.jupyter.widget-view+json": {
       "model_id": "fbe5e83f41ca42228f88d951282df424",
       "version_major": 2,
       "version_minor": 0
      },
      "text/plain": [
       "Renderer(camera=PerspectiveCamera(children=(DirectionalLight(color='white', intensity=0.6, position=(0.0, 0.0,…"
      ]
     },
     "metadata": {},
     "output_type": "display_data"
    },
    {
     "data": {
      "text/plain": [
       "<meshplot.Viewer.Viewer at 0x18a46ce8310>"
      ]
     },
     "execution_count": 139,
     "metadata": {},
     "output_type": "execute_result"
    }
   ],
   "source": [
    "v, f = igl.read_triangle_mesh(\"data/cow.off\")\n",
    "mp.plot(v, f, shading={\"wireframe\": True})"
   ]
  },
  {
   "cell_type": "markdown",
   "metadata": {},
   "source": [
    "# Vertex normal"
   ]
  },
  {
   "cell_type": "code",
   "execution_count": 140,
   "metadata": {},
   "outputs": [],
   "source": [
    "#Standard face normal\n",
    "def standard_face_normals(v, f):\n",
    "    return igl.per_face_normals(v, f)\n",
    "\n",
    "#Standard vertex normal\n",
    "def standard_vertex_normals(v, f):\n",
    "    return igl.per_vertex_normals(v, f)"
   ]
  },
  {
   "cell_type": "code",
   "execution_count": 141,
   "metadata": {},
   "outputs": [
    {
     "data": {
      "application/vnd.jupyter.widget-view+json": {
       "model_id": "110b1044c30f4e75af66dd14ce77bedd",
       "version_major": 2,
       "version_minor": 0
      },
      "text/plain": [
       "Renderer(camera=PerspectiveCamera(children=(DirectionalLight(color='white', intensity=0.6, position=(0.0, 0.0,…"
      ]
     },
     "metadata": {},
     "output_type": "display_data"
    },
    {
     "data": {
      "text/plain": [
       "<meshplot.Viewer.Viewer at 0x18a469ac190>"
      ]
     },
     "execution_count": 141,
     "metadata": {},
     "output_type": "execute_result"
    }
   ],
   "source": [
    "#Area-weighted face normal\n",
    "# def area_weighted_face_normals(v, f):\n",
    "#     return igl.per_face_normals(v, f, weighting_type=igl.PER_FACE_NORMALS_WEIGHTING_TYPE_AREA)\n",
    "\n",
    "#Area-weighted vertex normal\n",
    "def area_weighted_normals(v, f):\n",
    "    return igl.per_vertex_normals(v, f, weighting=igl.PER_VERTEX_NORMALS_WEIGHTING_TYPE_AREA)\n",
    "\n",
    "n = area_weighted_normals(v, f)\n",
    "mp.plot(v, f,  n=n, shading={\"flat\": False})"
   ]
  },
  {
   "cell_type": "code",
   "execution_count": 170,
   "metadata": {},
   "outputs": [
    {
     "data": {
      "application/vnd.jupyter.widget-view+json": {
       "model_id": "8559a05ba6e740e7acb4b2c3c2fe41ea",
       "version_major": 2,
       "version_minor": 0
      },
      "text/plain": [
       "Renderer(camera=PerspectiveCamera(children=(DirectionalLight(color='white', intensity=0.6, position=(0.0, 0.0,…"
      ]
     },
     "metadata": {},
     "output_type": "display_data"
    },
    {
     "data": {
      "text/plain": [
       "<meshplot.Viewer.Viewer at 0x18a48178580>"
      ]
     },
     "execution_count": 170,
     "metadata": {},
     "output_type": "execute_result"
    }
   ],
   "source": [
    "#Mean-curvature normal\n",
    "def mean_curvature_normals(v, f, eps):\n",
    "    L = igl.cotmatrix(v, f) # L is the cotangent laplacian matrix \n",
    "    M = igl.massmatrix(v, f, igl.MASSMATRIX_TYPE_VORONOI) # M is the mass matrix\n",
    "    inv_M = diags(1 / M.diagonal()) # inv_M is the inverse of the mass matrix\n",
    "\n",
    "    standard_normals = standard_vertex_normals(v, f)\n",
    "\n",
    "    mean_curvature_normals = -inv_M @ L @ v # mean_curvature_normals is the mean curvature normal\n",
    "    magnitude = np.linalg.norm(mean_curvature_normals, axis=1) \n",
    "    \n",
    "    normals = np.zeros_like(v)\n",
    "    for i in range(len(v)):\n",
    "        if np.linalg.norm(mean_curvature_normals[i]) > eps:\n",
    "            normals[i] = mean_curvature_normals[i] / magnitude[i]\n",
    "        else:\n",
    "            normals[i] = standard_normals[i]\n",
    "\n",
    "    return normals\n",
    "n1 = mean_curvature_normals(v, f, 1e-1)\n",
    "mp.plot(v, f, n=n1, shading={'wireframe': False})\n",
    "\n",
    "# n2 = mean_curvature_normals(v, f, 1e-18)\n",
    "# mp.plot(v, f, n=n2, shading={'wireframe': False})"
   ]
  },
  {
   "cell_type": "code",
   "execution_count": 147,
   "metadata": {},
   "outputs": [
    {
     "data": {
      "application/vnd.jupyter.widget-view+json": {
       "model_id": "1b3b24832e34477a91d2abac50c93f59",
       "version_major": 2,
       "version_minor": 0
      },
      "text/plain": [
       "Renderer(camera=PerspectiveCamera(children=(DirectionalLight(color='white', intensity=0.6, position=(0.0, 0.0,…"
      ]
     },
     "metadata": {},
     "output_type": "display_data"
    },
    {
     "data": {
      "text/plain": [
       "<meshplot.Viewer.Viewer at 0x18a47d77970>"
      ]
     },
     "execution_count": 147,
     "metadata": {},
     "output_type": "execute_result"
    }
   ],
   "source": [
    "#PCA normal\n",
    "def pca_normals(v, f, k):\n",
    "    standard_normals = standard_vertex_normals(v, f)\n",
    "\n",
    "    normals = np.zeros_like(v)\n",
    "    for i in range(len(v)):\n",
    "        distances = np.linalg.norm(v[i] - v, axis=1) # distance from v[i] to all other vertices\n",
    "        distances[i] = np.inf # set distance to itself to infinity\n",
    "        neighbor_indices = np.argpartition(distances, k)[:k] # indices of k nearest neighbors\n",
    "\n",
    "        # PCA on the k nearest neighbors\n",
    "        X_org = v[neighbor_indices]\n",
    "        X_centered = X_org - np.mean(X_org, axis=0)\n",
    "        covariance_matrix = np.cov(X_centered, rowvar=False)\n",
    "\n",
    "        eigenvalues, eigenvectors = np.linalg.eig(covariance_matrix)\n",
    "\n",
    "        normals[i] = eigenvectors[:, np.argmin(eigenvalues)]\n",
    "\n",
    "        if np.dot(normals[i], standard_normals[i]) < 0:\n",
    "            normals[i] = -normals[i]\n",
    "\n",
    "        normals[i] /= np.linalg.norm(normals[i])\n",
    "\n",
    "    return normals\n",
    "\n",
    "n = pca_normals(v, f, 10)\n",
    "mp.plot(v, f, n, shading={\"wireframe\": False})"
   ]
  },
  {
   "cell_type": "code",
   "execution_count": 175,
   "metadata": {},
   "outputs": [
    {
     "name": "stdout",
     "output_type": "stream",
     "text": [
      "Quadratic Fitting Normals\n"
     ]
    },
    {
     "data": {
      "application/vnd.jupyter.widget-view+json": {
       "model_id": "20d219183ec14a479e7e1f7b6bb8ae30",
       "version_major": 2,
       "version_minor": 0
      },
      "text/plain": [
       "Renderer(camera=PerspectiveCamera(children=(DirectionalLight(color='white', intensity=0.6, position=(0.0, 0.0,…"
      ]
     },
     "metadata": {},
     "output_type": "display_data"
    },
    {
     "name": "stdout",
     "output_type": "stream",
     "text": [
      "PCA Normals\n"
     ]
    },
    {
     "data": {
      "application/vnd.jupyter.widget-view+json": {
       "model_id": "4bb9c0629a6842e3bb13b4bc3eacde9e",
       "version_major": 2,
       "version_minor": 0
      },
      "text/plain": [
       "Renderer(camera=PerspectiveCamera(children=(DirectionalLight(color='white', intensity=0.6, position=(0.0, 0.0,…"
      ]
     },
     "metadata": {},
     "output_type": "display_data"
    },
    {
     "data": {
      "text/plain": [
       "<meshplot.Viewer.Viewer at 0x18a481f1b10>"
      ]
     },
     "execution_count": 175,
     "metadata": {},
     "output_type": "execute_result"
    }
   ],
   "source": [
    "#Quadratic fitting normal\n",
    "def quadratic_fit_normal(v, f, k):\n",
    "    standard_normals = standard_vertex_normals(v, f)\n",
    "    # standard_normals = area_weighted_normals(v, f)\n",
    "    \n",
    "    qf_normals  = np.zeros_like(v)\n",
    "    for i in range(len(v)):\n",
    "        distances = np.linalg.norm(v[i] - v, axis=1) # distance from v[i] to all other vertices\n",
    "        distances[i] = np.inf # set distance to itself to infinity\n",
    "        neighbor_indices = np.argpartition(distances, k)[:k] # indices of k nearest neighbors\n",
    "\n",
    "        # PCA on the k nearest neighbors\n",
    "        X_org = v[neighbor_indices]\n",
    "        X_centered = X_org - np.mean(X_org, axis=0)\n",
    "        covariance_matrix = np.cov(X_centered, rowvar=False)\n",
    "\n",
    "        eigenvalues, eigenvectors = np.linalg.eig(covariance_matrix)\n",
    "\n",
    "        pca_normal = eigenvectors[:, np.argmin(eigenvalues)]\n",
    "        \n",
    "        z = pca_normal\n",
    "        x = eigenvectors[:, np.argmax(eigenvalues)]\n",
    "        y = np.cross(z, x)\n",
    "\n",
    "        frame = np.column_stack((x, y, z))\n",
    "        local_neighbor_coords = (v[neighbor_indices] - v[i]) @ frame\n",
    "\n",
    "        u_coords = local_neighbor_coords[:, 0]\n",
    "        v_coords = local_neighbor_coords[:, 1]\n",
    "        f_coords = local_neighbor_coords[:, 2]\n",
    "        # print(\"local_neighbor_coords shape:\", local_neighbor_coords.shape)\n",
    "        \n",
    "\n",
    "        # Fit quadratic polynomial (f(u,v) = a*u^2 + b*v^2 + c*u*v + d*u + e*v + g )\n",
    "\n",
    "        A = np.column_stack((u_coords**2, v_coords**2, u_coords*v_coords, u_coords, v_coords, np.ones(len(u_coords))))\n",
    "        coeffs = np.linalg.lstsq(A, f_coords, rcond=None)[0]\n",
    "\n",
    "        a, b, c, d, e, g = coeffs\n",
    "\n",
    "        # Compute normal at u=0, v=0 (at the vertex)\n",
    "        # Tangent vectors:\n",
    "        #   T_u = (1, 0, df/du) = (1, 0, 2*a*u + c*v + d) | u=0, v=0 = (1, 0, d)\n",
    "        #   T_v = (0, 1, df/dv) = (0, 1, 2*b*v + c*u + e) | u=0, v=0 = (0, 1, e)\n",
    "        tangent_u = np.array([1, 0, d]) # v = 0\n",
    "        tangent_v = np.array([0, 1, e]) # u = 0\n",
    "        local_normal = np.cross(tangent_u, tangent_v)\n",
    "        local_normal /= np.linalg.norm(local_normal)\n",
    "\n",
    "        normal = np.dot(frame, local_normal)\n",
    "\n",
    "        if np.dot(normal, standard_normals[i]) < 0:\n",
    "            normal = -normal\n",
    "        \n",
    "        qf_normals[i] = normal\n",
    "\n",
    "    return qf_normals\n",
    "\n",
    "n = quadratic_fit_normal(v, f, 10)\n",
    "n_pca = pca_normals(v, f, 10)\n",
    "print(\"Quadratic Fitting Normals\")\n",
    "mp.plot(v, f, n, shading={\"Wireframe\": False}, )\n",
    "print(\"PCA Normals\")\n",
    "mp.plot(v, f, n_pca, shading={\"Wireframe\": True})"
   ]
  },
  {
   "cell_type": "markdown",
   "metadata": {},
   "source": [
    "# Curvature"
   ]
  },
  {
   "cell_type": "code",
   "execution_count": null,
   "metadata": {},
   "outputs": [],
   "source": [
    "#gaussian curvature"
   ]
  },
  {
   "cell_type": "code",
   "execution_count": null,
   "metadata": {},
   "outputs": [],
   "source": [
    "# principal curvature"
   ]
  },
  {
   "cell_type": "markdown",
   "metadata": {},
   "source": [
    "# Smoothing with the Laplacian"
   ]
  },
  {
   "cell_type": "code",
   "execution_count": null,
   "metadata": {},
   "outputs": [],
   "source": [
    "from scipy.sparse.linalg import spsolve\n",
    "import scipy.sparse as sp"
   ]
  },
  {
   "cell_type": "code",
   "execution_count": null,
   "metadata": {
    "scrolled": true
   },
   "outputs": [],
   "source": [
    "# Explicit laplacian"
   ]
  },
  {
   "cell_type": "code",
   "execution_count": null,
   "metadata": {},
   "outputs": [],
   "source": []
  },
  {
   "cell_type": "code",
   "execution_count": null,
   "metadata": {},
   "outputs": [],
   "source": [
    "# Implicit laplacian\n"
   ]
  },
  {
   "cell_type": "code",
   "execution_count": null,
   "metadata": {},
   "outputs": [],
   "source": []
  }
 ],
 "metadata": {
  "kernelspec": {
   "display_name": "gp",
   "language": "python",
   "name": "python3"
  },
  "language_info": {
   "codemirror_mode": {
    "name": "ipython",
    "version": 3
   },
   "file_extension": ".py",
   "mimetype": "text/x-python",
   "name": "python",
   "nbconvert_exporter": "python",
   "pygments_lexer": "ipython3",
   "version": "3.10.16"
  }
 },
 "nbformat": 4,
 "nbformat_minor": 4
}
