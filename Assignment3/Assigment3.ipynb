{
 "cells": [
  {
   "cell_type": "markdown",
   "metadata": {},
   "source": [
    "# Assigment 3"
   ]
  },
  {
   "cell_type": "code",
   "execution_count": 227,
   "metadata": {},
   "outputs": [],
   "source": [
    "import igl\n",
    "import numpy as np\n",
    "import meshplot as mp\n",
    "from scipy.sparse import diags\n",
    "from scipy.sparse.linalg import spsolve"
   ]
  },
  {
   "cell_type": "code",
   "execution_count": 228,
   "metadata": {},
   "outputs": [
    {
     "data": {
      "application/vnd.jupyter.widget-view+json": {
       "model_id": "b32e51fadb314dbab08e01c516bf876a",
       "version_major": 2,
       "version_minor": 0
      },
      "text/plain": [
       "Renderer(camera=PerspectiveCamera(children=(DirectionalLight(color='white', intensity=0.6, position=(0.0, 0.0,…"
      ]
     },
     "metadata": {},
     "output_type": "display_data"
    },
    {
     "data": {
      "text/plain": [
       "<meshplot.Viewer.Viewer at 0x2175fe85ff0>"
      ]
     },
     "execution_count": 228,
     "metadata": {},
     "output_type": "execute_result"
    }
   ],
   "source": [
    "v, f = igl.read_triangle_mesh(\"data/cow.off\")\n",
    "mp.plot(v, f, shading={\"wireframe\": True})"
   ]
  },
  {
   "cell_type": "markdown",
   "metadata": {},
   "source": [
    "# Vertex normal"
   ]
  },
  {
   "cell_type": "code",
   "execution_count": 229,
   "metadata": {},
   "outputs": [],
   "source": [
    "#Standard face normal\n",
    "def standard_face_normals(v, f):\n",
    "    return igl.per_face_normals(v, f)\n",
    "\n",
    "#Standard vertex normal\n",
    "def standard_vertex_normals(v, f):\n",
    "    return igl.per_vertex_normals(v, f)"
   ]
  },
  {
   "cell_type": "code",
   "execution_count": 230,
   "metadata": {},
   "outputs": [
    {
     "data": {
      "application/vnd.jupyter.widget-view+json": {
       "model_id": "86104eedda6e408c9fb1a7e37ef33268",
       "version_major": 2,
       "version_minor": 0
      },
      "text/plain": [
       "Renderer(camera=PerspectiveCamera(children=(DirectionalLight(color='white', intensity=0.6, position=(0.0, 0.0,…"
      ]
     },
     "metadata": {},
     "output_type": "display_data"
    },
    {
     "data": {
      "text/plain": [
       "<meshplot.Viewer.Viewer at 0x2175fdc27a0>"
      ]
     },
     "execution_count": 230,
     "metadata": {},
     "output_type": "execute_result"
    }
   ],
   "source": [
    "#Area-weighted face normal\n",
    "# def area_weighted_face_normals(v, f):\n",
    "#     return igl.per_face_normals(v, f, weighting_type=igl.PER_FACE_NORMALS_WEIGHTING_TYPE_AREA)\n",
    "\n",
    "#Area-weighted vertex normal\n",
    "def area_weighted_normals(v, f):\n",
    "    return igl.per_vertex_normals(v, f, weighting=igl.PER_VERTEX_NORMALS_WEIGHTING_TYPE_AREA)\n",
    "\n",
    "n = area_weighted_normals(v, f)\n",
    "mp.plot(v, f,  n=n, shading={\"flat\": False})"
   ]
  },
  {
   "cell_type": "code",
   "execution_count": 231,
   "metadata": {},
   "outputs": [
    {
     "data": {
      "application/vnd.jupyter.widget-view+json": {
       "model_id": "205b7e046dbe4c9c849eb431ab57ff29",
       "version_major": 2,
       "version_minor": 0
      },
      "text/plain": [
       "Renderer(camera=PerspectiveCamera(children=(DirectionalLight(color='white', intensity=0.6, position=(0.0, 0.0,…"
      ]
     },
     "metadata": {},
     "output_type": "display_data"
    },
    {
     "data": {
      "text/plain": [
       "<meshplot.Viewer.Viewer at 0x2175ff18e80>"
      ]
     },
     "execution_count": 231,
     "metadata": {},
     "output_type": "execute_result"
    }
   ],
   "source": [
    "#Mean-curvature normal\n",
    "def mean_curvature_normals(v, f, eps):\n",
    "    L = igl.cotmatrix(v, f) # L is the cotangent laplacian matrix \n",
    "    M = igl.massmatrix(v, f, igl.MASSMATRIX_TYPE_VORONOI) # M is the mass matrix\n",
    "    inv_M = diags(1 / M.diagonal()) # inv_M is the inverse of the mass matrix\n",
    "\n",
    "    standard_normals = standard_vertex_normals(v, f)\n",
    "\n",
    "    mean_curvature_normals = -inv_M @ L @ v # mean_curvature_normals is the mean curvature normal\n",
    "    magnitude = np.linalg.norm(mean_curvature_normals, axis=1) \n",
    "    \n",
    "    normals = np.zeros_like(v)\n",
    "    for i in range(len(v)):\n",
    "        if np.linalg.norm(mean_curvature_normals[i]) > eps:\n",
    "            normals[i] = mean_curvature_normals[i] / magnitude[i]\n",
    "        else:\n",
    "            normals[i] = standard_normals[i]\n",
    "\n",
    "    return normals\n",
    "n1 = mean_curvature_normals(v, f, 1e-1)\n",
    "mp.plot(v, f, n=n1, shading={'wireframe': False})\n",
    "\n",
    "# n2 = mean_curvature_normals(v, f, 1e-18)\n",
    "# mp.plot(v, f, n=n2, shading={'wireframe': False})"
   ]
  },
  {
   "cell_type": "code",
   "execution_count": 232,
   "metadata": {},
   "outputs": [
    {
     "data": {
      "application/vnd.jupyter.widget-view+json": {
       "model_id": "f952dd4ab55f4376b40174cba45753bf",
       "version_major": 2,
       "version_minor": 0
      },
      "text/plain": [
       "Renderer(camera=PerspectiveCamera(children=(DirectionalLight(color='white', intensity=0.6, position=(0.0, 0.0,…"
      ]
     },
     "metadata": {},
     "output_type": "display_data"
    },
    {
     "data": {
      "text/plain": [
       "<meshplot.Viewer.Viewer at 0x2175ff1bfd0>"
      ]
     },
     "execution_count": 232,
     "metadata": {},
     "output_type": "execute_result"
    }
   ],
   "source": [
    "#PCA normal\n",
    "def pca_normals(v, f, k):\n",
    "    standard_normals = standard_vertex_normals(v, f)\n",
    "\n",
    "    normals = np.zeros_like(v)\n",
    "    for i in range(len(v)):\n",
    "        distances = np.linalg.norm(v[i] - v, axis=1) # distance from v[i] to all other vertices\n",
    "        distances[i] = np.inf # set distance to itself to infinity\n",
    "        neighbor_indices = np.argpartition(distances, k)[:k] # indices of k nearest neighbors\n",
    "\n",
    "        # PCA on the k nearest neighbors\n",
    "        X_org = v[neighbor_indices]\n",
    "        X_centered = X_org - np.mean(X_org, axis=0)\n",
    "        covariance_matrix = np.cov(X_centered, rowvar=False)\n",
    "\n",
    "        eigenvalues, eigenvectors = np.linalg.eig(covariance_matrix)\n",
    "\n",
    "        normals[i] = eigenvectors[:, np.argmin(eigenvalues)]\n",
    "\n",
    "        if np.dot(normals[i], standard_normals[i]) < 0:\n",
    "            normals[i] = -normals[i]\n",
    "\n",
    "        normals[i] /= np.linalg.norm(normals[i])\n",
    "\n",
    "    return normals\n",
    "\n",
    "n = pca_normals(v, f, 10)\n",
    "mp.plot(v, f, n, shading={\"wireframe\": False})"
   ]
  },
  {
   "cell_type": "code",
   "execution_count": 233,
   "metadata": {},
   "outputs": [
    {
     "name": "stdout",
     "output_type": "stream",
     "text": [
      "Quadratic Fitting Normals\n"
     ]
    },
    {
     "data": {
      "application/vnd.jupyter.widget-view+json": {
       "model_id": "b6a75fd51d604141ab5d9ea83f078a20",
       "version_major": 2,
       "version_minor": 0
      },
      "text/plain": [
       "Renderer(camera=PerspectiveCamera(children=(DirectionalLight(color='white', intensity=0.6, position=(0.0, 0.0,…"
      ]
     },
     "metadata": {},
     "output_type": "display_data"
    },
    {
     "name": "stdout",
     "output_type": "stream",
     "text": [
      "PCA Normals\n"
     ]
    },
    {
     "data": {
      "application/vnd.jupyter.widget-view+json": {
       "model_id": "7d72111798fd4527a59258e3610f8afa",
       "version_major": 2,
       "version_minor": 0
      },
      "text/plain": [
       "Renderer(camera=PerspectiveCamera(children=(DirectionalLight(color='white', intensity=0.6, position=(0.0, 0.0,…"
      ]
     },
     "metadata": {},
     "output_type": "display_data"
    },
    {
     "data": {
      "text/plain": [
       "<meshplot.Viewer.Viewer at 0x2175ff1ba00>"
      ]
     },
     "execution_count": 233,
     "metadata": {},
     "output_type": "execute_result"
    }
   ],
   "source": [
    "#Quadratic fitting normal\n",
    "def quadratic_fit_normal(v, f, k):\n",
    "    standard_normals = standard_vertex_normals(v, f)\n",
    "    # standard_normals = area_weighted_normals(v, f)\n",
    "    \n",
    "    qf_normals  = np.zeros_like(v)\n",
    "    for i in range(len(v)):\n",
    "        distances = np.linalg.norm(v[i] - v, axis=1) # distance from v[i] to all other vertices\n",
    "        distances[i] = np.inf # set distance to itself to infinity\n",
    "        neighbor_indices = np.argpartition(distances, k)[:k] # indices of k nearest neighbors\n",
    "\n",
    "        # PCA on the k nearest neighbors\n",
    "        X_org = v[neighbor_indices]\n",
    "        X_centered = X_org - np.mean(X_org, axis=0)\n",
    "        covariance_matrix = np.cov(X_centered, rowvar=False)\n",
    "\n",
    "        eigenvalues, eigenvectors = np.linalg.eig(covariance_matrix)\n",
    "\n",
    "        pca_normal = eigenvectors[:, np.argmin(eigenvalues)]\n",
    "        \n",
    "        z = pca_normal\n",
    "        x = eigenvectors[:, np.argmax(eigenvalues)]\n",
    "        y = np.cross(z, x)\n",
    "\n",
    "        frame = np.column_stack((x, y, z))\n",
    "        local_neighbor_coords = (v[neighbor_indices] - v[i]) @ frame\n",
    "\n",
    "        u_coords = local_neighbor_coords[:, 0]\n",
    "        v_coords = local_neighbor_coords[:, 1]\n",
    "        f_coords = local_neighbor_coords[:, 2]\n",
    "        # print(\"local_neighbor_coords shape:\", local_neighbor_coords.shape)\n",
    "        \n",
    "\n",
    "        # Fit quadratic polynomial (f(u,v) = a*u^2 + b*v^2 + c*u*v + d*u + e*v + g )\n",
    "\n",
    "        A = np.column_stack((u_coords**2, v_coords**2, u_coords*v_coords, u_coords, v_coords, np.ones(len(u_coords))))\n",
    "        coeffs = np.linalg.lstsq(A, f_coords, rcond=None)[0]\n",
    "\n",
    "        a, b, c, d, e, g = coeffs\n",
    "\n",
    "        # Compute normal at u=0, v=0 (at the vertex)\n",
    "        # Tangent vectors:\n",
    "        #   T_u = (1, 0, df/du) = (1, 0, 2*a*u + c*v + d) | u=0, v=0 = (1, 0, d)\n",
    "        #   T_v = (0, 1, df/dv) = (0, 1, 2*b*v + c*u + e) | u=0, v=0 = (0, 1, e)\n",
    "        tangent_u = np.array([1, 0, d]) # v = 0\n",
    "        tangent_v = np.array([0, 1, e]) # u = 0\n",
    "        local_normal = np.cross(tangent_u, tangent_v)\n",
    "        local_normal /= np.linalg.norm(local_normal)\n",
    "\n",
    "        normal = np.dot(frame, local_normal)\n",
    "\n",
    "        if np.dot(normal, standard_normals[i]) < 0:\n",
    "            normal = -normal\n",
    "        \n",
    "        qf_normals[i] = normal\n",
    "\n",
    "    return qf_normals\n",
    "\n",
    "n = quadratic_fit_normal(v, f, 10)\n",
    "print(\"Quadratic Fitting Normals\")\n",
    "mp.plot(v, f, n, shading={\"Wireframe\": False})\n",
    "\n",
    "n_pca = pca_normals(v, f, 10)\n",
    "print(\"PCA Normals\")\n",
    "mp.plot(v, f, n_pca, shading={\"Wireframe\": False})"
   ]
  },
  {
   "cell_type": "markdown",
   "metadata": {},
   "source": [
    "# Curvature"
   ]
  },
  {
   "cell_type": "code",
   "execution_count": 234,
   "metadata": {},
   "outputs": [
    {
     "data": {
      "application/vnd.jupyter.widget-view+json": {
       "model_id": "1462e8a6557c4afcaa7afd398c2ad253",
       "version_major": 2,
       "version_minor": 0
      },
      "text/plain": [
       "Renderer(camera=PerspectiveCamera(children=(DirectionalLight(color='white', intensity=0.6, position=(0.0, 0.0,…"
      ]
     },
     "metadata": {},
     "output_type": "display_data"
    },
    {
     "data": {
      "text/plain": [
       "<meshplot.Viewer.Viewer at 0x2175ff1b370>"
      ]
     },
     "execution_count": 234,
     "metadata": {},
     "output_type": "execute_result"
    }
   ],
   "source": [
    "#gaussian curvature\n",
    "k = igl.gaussian_curvature(v, f)\n",
    "mp.plot(v, f, k, shading={\"colormap\": \"coolwarm\"})"
   ]
  },
  {
   "cell_type": "code",
   "execution_count": 235,
   "metadata": {},
   "outputs": [
    {
     "data": {
      "application/vnd.jupyter.widget-view+json": {
       "model_id": "feba0d47757e446d9814f2fbcd256ac7",
       "version_major": 2,
       "version_minor": 0
      },
      "text/plain": [
       "Renderer(camera=PerspectiveCamera(children=(DirectionalLight(color='white', intensity=0.6, position=(0.0, 0.0,…"
      ]
     },
     "metadata": {},
     "output_type": "display_data"
    },
    {
     "data": {
      "text/plain": [
       "<meshplot.Viewer.Viewer at 0x2175febee60>"
      ]
     },
     "execution_count": 235,
     "metadata": {},
     "output_type": "execute_result"
    }
   ],
   "source": [
    "l = igl.cotmatrix(v, f)\n",
    "m = igl.massmatrix(v, f, igl.MASSMATRIX_TYPE_VORONOI)\n",
    " \n",
    "minv = diags(1 / m.diagonal())\n",
    " \n",
    "hn = -minv.dot(l.dot(v))\n",
    "h = np.linalg.norm(hn, axis=1)\n",
    "mp.plot(v, f, h, shading={\"colormap\": \"coolwarm\"})"
   ]
  },
  {
   "cell_type": "code",
   "execution_count": 236,
   "metadata": {},
   "outputs": [
    {
     "data": {
      "application/vnd.jupyter.widget-view+json": {
       "model_id": "a66c59d4c4854014b7f1186174d0acd4",
       "version_major": 2,
       "version_minor": 0
      },
      "text/plain": [
       "Renderer(camera=PerspectiveCamera(children=(DirectionalLight(color='white', intensity=0.6, position=(0.0, 0.0,…"
      ]
     },
     "metadata": {},
     "output_type": "display_data"
    },
    {
     "data": {
      "text/plain": [
       "2"
      ]
     },
     "execution_count": 236,
     "metadata": {},
     "output_type": "execute_result"
    }
   ],
   "source": [
    "# principal curvature\n",
    "k_min, k_max, d_min, d_max = igl.principal_curvature(v, f)\n",
    "\n",
    "h = 0.5 * (k_min + k_max)\n",
    "\n",
    "h_norm = (h - np.min(h)) / (np.max(h) - np.min(h))\n",
    "\n",
    "avg = igl.avg_edge_length(v, f) / 2.0\n",
    "\n",
    "start_k_min = v + k_min * avg \n",
    "end_k_min   = v - k_min* avg  \n",
    " \n",
    "start_k_max = v + k_max * avg\n",
    "end_k_max   = v - k_max* avg  \n",
    "\n",
    "p = mp.plot(v, f, h_norm, shading={\"wireframe\": False}, return_plot=True)\n",
    "p.add_lines(start_k_min, end_k_min, shading={\"line_color\": \"red\"})\n",
    "p.add_lines(start_k_max, end_k_max, shading={\"line_color\": \"green\"})"
   ]
  },
  {
   "cell_type": "markdown",
   "metadata": {},
   "source": [
    "# Smoothing with the Laplacian"
   ]
  },
  {
   "cell_type": "code",
   "execution_count": 237,
   "metadata": {},
   "outputs": [],
   "source": [
    "V, F = igl.read_triangle_mesh(\"data/cow.off\")\n",
    "L = igl.cotmatrix(V, F)\n",
    "\n",
    "N = igl.per_vertex_normals(V, F)*0.5+0.5\n",
    "C = np.linalg.norm(N, axis=1)\n",
    "\n",
    "M = igl.massmatrix(V, F, igl.MASSMATRIX_TYPE_BARYCENTRIC)\n",
    "Minv = diags(1 / M.diagonal())\n"
   ]
  },
  {
   "cell_type": "code",
   "execution_count": 238,
   "metadata": {},
   "outputs": [
    {
     "name": "stdout",
     "output_type": "stream",
     "text": [
      "(2762, 3)\n"
     ]
    },
    {
     "data": {
      "application/vnd.jupyter.widget-view+json": {
       "model_id": "06bdca08c78e4cde976ea1811ae9e68c",
       "version_major": 2,
       "version_minor": 0
      },
      "text/plain": [
       "Renderer(camera=PerspectiveCamera(children=(DirectionalLight(color='white', intensity=0.6, position=(-0.002776…"
      ]
     },
     "metadata": {},
     "output_type": "display_data"
    },
    {
     "data": {
      "text/plain": [
       "<meshplot.Viewer.Viewer at 0x2175febfb80>"
      ]
     },
     "execution_count": 238,
     "metadata": {},
     "output_type": "execute_result"
    }
   ],
   "source": [
    "# Explicit laplacian\n",
    "exp_lambda = 0.000001\n",
    "exp_iterations = 1000\n",
    "V_explicit = V\n",
    "for i in range(exp_iterations):\n",
    "    lv = L @ V_explicit\n",
    "\n",
    "    lvm = Minv.dot(lv)\n",
    "\n",
    "    V_explicit = V_explicit + exp_lambda * lvm\n",
    "    \n",
    "    \n",
    "print(V_explicit.shape)\n",
    "mp.plot(V_explicit, F, C, shading={\"colormap\": \"plasma\"})"
   ]
  },
  {
   "cell_type": "code",
   "execution_count": 239,
   "metadata": {},
   "outputs": [
    {
     "data": {
      "application/vnd.jupyter.widget-view+json": {
       "model_id": "73c2778186d44e929063724a5313ea08",
       "version_major": 2,
       "version_minor": 0
      },
      "text/plain": [
       "Renderer(camera=PerspectiveCamera(children=(DirectionalLight(color='white', intensity=0.6, position=(-0.029718…"
      ]
     },
     "metadata": {},
     "output_type": "display_data"
    },
    {
     "data": {
      "text/plain": [
       "<meshplot.Viewer.Viewer at 0x2175ff8f970>"
      ]
     },
     "execution_count": 239,
     "metadata": {},
     "output_type": "execute_result"
    }
   ],
   "source": [
    "# Implicit laplacian\n",
    "imp_lambda = 0.01\n",
    "imp_iterations = 1\n",
    "V_implicit = V\n",
    "for i in range(imp_iterations):\n",
    "    A = M - imp_lambda * L\n",
    "    B = M.dot(V)\n",
    "\n",
    "    V_implicit = spsolve(A, B)\n",
    "\n",
    "mp.plot(V_implicit, F, C, shading={\"colormap\": \"plasma\"})\n"
   ]
  },
  {
   "cell_type": "code",
   "execution_count": null,
   "metadata": {},
   "outputs": [],
   "source": []
  }
 ],
 "metadata": {
  "kernelspec": {
   "display_name": "gp",
   "language": "python",
   "name": "python3"
  },
  "language_info": {
   "codemirror_mode": {
    "name": "ipython",
    "version": 3
   },
   "file_extension": ".py",
   "mimetype": "text/x-python",
   "name": "python",
   "nbconvert_exporter": "python",
   "pygments_lexer": "ipython3",
   "version": "3.10.16"
  }
 },
 "nbformat": 4,
 "nbformat_minor": 4
}
