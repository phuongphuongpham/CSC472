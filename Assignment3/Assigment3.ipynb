{
 "cells": [
  {
   "cell_type": "markdown",
   "metadata": {},
   "source": [
    "# Assigment 3"
   ]
  },
  {
   "cell_type": "code",
   "execution_count": 17,
   "metadata": {},
   "outputs": [],
   "source": [
    "import igl\n",
    "import numpy as np\n",
    "import meshplot as mp\n",
    "from scipy.sparse import diags\n"
   ]
  },
  {
   "cell_type": "code",
   "execution_count": null,
   "metadata": {},
   "outputs": [
    {
     "data": {
      "application/vnd.jupyter.widget-view+json": {
       "model_id": "54cb8e7906ec41e593119a1d93a478f9",
       "version_major": 2,
       "version_minor": 0
      },
      "text/plain": [
       "Renderer(camera=PerspectiveCamera(children=(DirectionalLight(color='white', intensity=0.6, position=(0.0, 0.0,…"
      ]
     },
     "metadata": {},
     "output_type": "display_data"
    },
    {
     "data": {
      "text/plain": [
       "<meshplot.Viewer.Viewer at 0x16c46d86740>"
      ]
     },
     "execution_count": 18,
     "metadata": {},
     "output_type": "execute_result"
    }
   ],
   "source": [
    "v, f = igl.read_triangle_mesh(\"data/cow.off\")\n",
    "mp.plot(v, f, shading={\"wireframe\": True})"
   ]
  },
  {
   "cell_type": "markdown",
   "metadata": {},
   "source": [
    "# Vertex normal"
   ]
  },
  {
   "cell_type": "code",
   "execution_count": 19,
   "metadata": {},
   "outputs": [],
   "source": [
    "#Standard face normal\n",
    "def standard_face_normals(v, f):\n",
    "    return igl.per_face_normals(v, f)\n",
    "\n",
    "#Standard vertex normal\n",
    "def standard_vertex_normals(v, f):\n",
    "    return igl.per_vertex_normals(v, f)"
   ]
  },
  {
   "cell_type": "code",
   "execution_count": 20,
   "metadata": {},
   "outputs": [
    {
     "data": {
      "application/vnd.jupyter.widget-view+json": {
       "model_id": "0206a0b97a45458dbb9dbac21c1b72b5",
       "version_major": 2,
       "version_minor": 0
      },
      "text/plain": [
       "Renderer(camera=PerspectiveCamera(children=(DirectionalLight(color='white', intensity=0.6, position=(0.0, 0.0,…"
      ]
     },
     "metadata": {},
     "output_type": "display_data"
    },
    {
     "data": {
      "text/plain": [
       "<meshplot.Viewer.Viewer at 0x16c44eaa4d0>"
      ]
     },
     "execution_count": 20,
     "metadata": {},
     "output_type": "execute_result"
    }
   ],
   "source": [
    "#Area-weighted face normal\n",
    "# def area_weighted_face_normals(v, f):\n",
    "#     return igl.per_face_normals(v, f, weighting_type=igl.PER_FACE_NORMALS_WEIGHTING_TYPE_AREA)\n",
    "\n",
    "#Area-weighted vertex normal\n",
    "def area_weighted_normals(v, f):\n",
    "    return igl.per_vertex_normals(v, f, weighting=igl.PER_VERTEX_NORMALS_WEIGHTING_TYPE_AREA)\n",
    "\n",
    "n = area_weighted_normals(v, f)\n",
    "mp.plot(v, f,  n=n, shading={\"flat\": False})"
   ]
  },
  {
   "cell_type": "code",
   "execution_count": 21,
   "metadata": {},
   "outputs": [
    {
     "data": {
      "application/vnd.jupyter.widget-view+json": {
       "model_id": "714628e2014043fab7ae8f3b2c627501",
       "version_major": 2,
       "version_minor": 0
      },
      "text/plain": [
       "Renderer(camera=PerspectiveCamera(children=(DirectionalLight(color='white', intensity=0.6, position=(0.0, 0.0,…"
      ]
     },
     "metadata": {},
     "output_type": "display_data"
    },
    {
     "data": {
      "text/plain": [
       "<meshplot.Viewer.Viewer at 0x16c44ea8a00>"
      ]
     },
     "execution_count": 21,
     "metadata": {},
     "output_type": "execute_result"
    }
   ],
   "source": [
    "#Mean-curvature normal\n",
    "def mean_curvature_normals(v, f, eps):\n",
    "    L = igl.cotmatrix(v, f) # L is the cotangent laplacian matrix \n",
    "    M = igl.massmatrix(v, f, igl.MASSMATRIX_TYPE_VORONOI) # M is the mass matrix\n",
    "    inv_M = diags(1 / M.diagonal()) # inv_M is the inverse of the mass matrix\n",
    "\n",
    "    standard_normals = standard_vertex_normals(v, f)\n",
    "\n",
    "    mean_curvature_normals = -inv_M @ L @ v # mean_curvature_normals is the mean curvature normal\n",
    "    magnitude = np.linalg.norm(mean_curvature_normals, axis=1) \n",
    "    \n",
    "    normals = np.zeros_like(v)\n",
    "    for i in range(len(v)):\n",
    "        if np.linalg.norm(mean_curvature_normals[i]) > eps:\n",
    "            normals[i] = mean_curvature_normals[i] / magnitude[i]\n",
    "        else:\n",
    "            normals[i] = standard_normals[i]\n",
    "\n",
    "    return normals\n",
    "n1 = mean_curvature_normals(v, f, 1e-1)\n",
    "mp.plot(v, f, n=n1, shading={'wireframe': False})\n",
    "\n",
    "# n2 = mean_curvature_normals(v, f, 1e-18)\n",
    "# mp.plot(v, f, n=n2, shading={'wireframe': False})"
   ]
  },
  {
   "cell_type": "code",
   "execution_count": 22,
   "metadata": {},
   "outputs": [
    {
     "data": {
      "application/vnd.jupyter.widget-view+json": {
       "model_id": "0c8372c8ffb24dd3a3e2488b70f26d52",
       "version_major": 2,
       "version_minor": 0
      },
      "text/plain": [
       "Renderer(camera=PerspectiveCamera(children=(DirectionalLight(color='white', intensity=0.6, position=(0.0, 0.0,…"
      ]
     },
     "metadata": {},
     "output_type": "display_data"
    },
    {
     "data": {
      "text/plain": [
       "<meshplot.Viewer.Viewer at 0x16c46d982b0>"
      ]
     },
     "execution_count": 22,
     "metadata": {},
     "output_type": "execute_result"
    }
   ],
   "source": [
    "#PCA normal\n",
    "def pca_normals(v, f, k):\n",
    "    standard_normals = standard_vertex_normals(v, f)\n",
    "\n",
    "    normals = np.zeros_like(v)\n",
    "    for i in range(len(v)):\n",
    "        distances = np.linalg.norm(v[i] - v, axis=1) # distance from v[i] to all other vertices\n",
    "        distances[i] = np.inf # set distance to itself to infinity\n",
    "        neighbor_indices = np.argpartition(distances, k)[:k] # indices of k nearest neighbors\n",
    "\n",
    "        # PCA on the k nearest neighbors\n",
    "        X_org = v[neighbor_indices]\n",
    "        X_centered = X_org - np.mean(X_org, axis=0)\n",
    "        covariance_matrix = np.cov(X_centered, rowvar=False)\n",
    "\n",
    "        eigenvalues, eigenvectors = np.linalg.eig(covariance_matrix)\n",
    "\n",
    "        normals[i] = eigenvectors[:, np.argmin(eigenvalues)]\n",
    "\n",
    "        if np.dot(normals[i], standard_normals[i]) < 0:\n",
    "            normals[i] = -normals[i]\n",
    "\n",
    "        normals[i] /= np.linalg.norm(normals[i])\n",
    "\n",
    "    return normals\n",
    "\n",
    "n = pca_normals(v, f, 10)\n",
    "mp.plot(v, f, n, shading={\"wireframe\": False})"
   ]
  },
  {
   "cell_type": "code",
   "execution_count": 23,
   "metadata": {},
   "outputs": [
    {
     "name": "stdout",
     "output_type": "stream",
     "text": [
      "Quadratic Fitting Normals\n"
     ]
    },
    {
     "data": {
      "application/vnd.jupyter.widget-view+json": {
       "model_id": "88b2bbd900ed46de87b73a3fe74c425f",
       "version_major": 2,
       "version_minor": 0
      },
      "text/plain": [
       "Renderer(camera=PerspectiveCamera(children=(DirectionalLight(color='white', intensity=0.6, position=(0.0, 0.0,…"
      ]
     },
     "metadata": {},
     "output_type": "display_data"
    },
    {
     "name": "stdout",
     "output_type": "stream",
     "text": [
      "PCA Normals\n"
     ]
    },
    {
     "data": {
      "application/vnd.jupyter.widget-view+json": {
       "model_id": "8110edc78728458d83cecd162bb8a94e",
       "version_major": 2,
       "version_minor": 0
      },
      "text/plain": [
       "Renderer(camera=PerspectiveCamera(children=(DirectionalLight(color='white', intensity=0.6, position=(0.0, 0.0,…"
      ]
     },
     "metadata": {},
     "output_type": "display_data"
    },
    {
     "data": {
      "text/plain": [
       "<meshplot.Viewer.Viewer at 0x16c46d43ac0>"
      ]
     },
     "execution_count": 23,
     "metadata": {},
     "output_type": "execute_result"
    }
   ],
   "source": [
    "#Quadratic fitting normal\n",
    "def quadratic_fit_normal(v, f, k):\n",
    "    standard_normals = standard_vertex_normals(v, f)\n",
    "    # standard_normals = area_weighted_normals(v, f)\n",
    "    \n",
    "    qf_normals  = np.zeros_like(v)\n",
    "    for i in range(len(v)):\n",
    "        distances = np.linalg.norm(v[i] - v, axis=1) # distance from v[i] to all other vertices\n",
    "        distances[i] = np.inf # set distance to itself to infinity\n",
    "        neighbor_indices = np.argpartition(distances, k)[:k] # indices of k nearest neighbors\n",
    "\n",
    "        # PCA on the k nearest neighbors\n",
    "        X_org = v[neighbor_indices]\n",
    "        X_centered = X_org - np.mean(X_org, axis=0)\n",
    "        covariance_matrix = np.cov(X_centered, rowvar=False)\n",
    "\n",
    "        eigenvalues, eigenvectors = np.linalg.eig(covariance_matrix)\n",
    "\n",
    "        pca_normal = eigenvectors[:, np.argmin(eigenvalues)]\n",
    "        \n",
    "        z = pca_normal\n",
    "        x = eigenvectors[:, np.argmax(eigenvalues)]\n",
    "        y = np.cross(z, x)\n",
    "\n",
    "        frame = np.column_stack((x, y, z))\n",
    "        local_neighbor_coords = (v[neighbor_indices] - v[i]) @ frame\n",
    "\n",
    "        u_coords = local_neighbor_coords[:, 0]\n",
    "        v_coords = local_neighbor_coords[:, 1]\n",
    "        f_coords = local_neighbor_coords[:, 2]\n",
    "        # print(\"local_neighbor_coords shape:\", local_neighbor_coords.shape)\n",
    "        \n",
    "\n",
    "        # Fit quadratic polynomial (f(u,v) = a*u^2 + b*v^2 + c*u*v + d*u + e*v + g )\n",
    "\n",
    "        A = np.column_stack((u_coords**2, v_coords**2, u_coords*v_coords, u_coords, v_coords, np.ones(len(u_coords))))\n",
    "        coeffs = np.linalg.lstsq(A, f_coords, rcond=None)[0]\n",
    "\n",
    "        a, b, c, d, e, g = coeffs\n",
    "\n",
    "        # Compute normal at u=0, v=0 (at the vertex)\n",
    "        # Tangent vectors:\n",
    "        #   T_u = (1, 0, df/du) = (1, 0, 2*a*u + c*v + d) | u=0, v=0 = (1, 0, d)\n",
    "        #   T_v = (0, 1, df/dv) = (0, 1, 2*b*v + c*u + e) | u=0, v=0 = (0, 1, e)\n",
    "        tangent_u = np.array([1, 0, d]) # v = 0\n",
    "        tangent_v = np.array([0, 1, e]) # u = 0\n",
    "        local_normal = np.cross(tangent_u, tangent_v)\n",
    "        local_normal /= np.linalg.norm(local_normal)\n",
    "\n",
    "        normal = np.dot(frame, local_normal)\n",
    "\n",
    "        if np.dot(normal, standard_normals[i]) < 0:\n",
    "            normal = -normal\n",
    "        \n",
    "        qf_normals[i] = normal\n",
    "\n",
    "    return qf_normals\n",
    "\n",
    "n = quadratic_fit_normal(v, f, 10)\n",
    "n_pca = pca_normals(v, f, 10)\n",
    "print(\"Quadratic Fitting Normals\")\n",
    "mp.plot(v, f, n, shading={\"Wireframe\": False}, )\n",
    "print(\"PCA Normals\")\n",
    "mp.plot(v, f, n_pca, shading={\"Wireframe\": True})"
   ]
  },
  {
   "cell_type": "markdown",
   "metadata": {},
   "source": [
    "# Curvature"
   ]
  },
  {
   "cell_type": "code",
   "execution_count": 59,
   "metadata": {},
   "outputs": [
    {
     "data": {
      "application/vnd.jupyter.widget-view+json": {
       "model_id": "5e8c3ac21afd46df9b6ce5e835cc6bea",
       "version_major": 2,
       "version_minor": 0
      },
      "text/plain": [
       "Renderer(camera=PerspectiveCamera(children=(DirectionalLight(color='white', intensity=0.6, position=(-0.087639…"
      ]
     },
     "metadata": {},
     "output_type": "display_data"
    },
    {
     "data": {
      "text/plain": [
       "<meshplot.Viewer.Viewer at 0x16c47f60a00>"
      ]
     },
     "execution_count": 59,
     "metadata": {},
     "output_type": "execute_result"
    }
   ],
   "source": [
    "#gaussian curvature\n",
    "k = igl.gaussian_curvature(v, f)\n",
    "mp.plot(v, f, k,shading={\"colormap\": \"coolwarm\"})"
   ]
  },
  {
   "cell_type": "code",
   "execution_count": 62,
   "metadata": {},
   "outputs": [
    {
     "data": {
      "application/vnd.jupyter.widget-view+json": {
       "model_id": "ab362399270043ac9bc226cee9b0a8ef",
       "version_major": 2,
       "version_minor": 0
      },
      "text/plain": [
       "Renderer(camera=PerspectiveCamera(children=(DirectionalLight(color='white', intensity=0.6, position=(-0.087639…"
      ]
     },
     "metadata": {},
     "output_type": "display_data"
    },
    {
     "data": {
      "text/plain": [
       "2"
      ]
     },
     "execution_count": 62,
     "metadata": {},
     "output_type": "execute_result"
    }
   ],
   "source": [
    "# principal curvature\n",
    "k_min, k_max, d_min, d_max = igl.principal_curvature(v, f)\n",
    "\n",
    "h = 0.5 * (k_min + k_max)\n",
    "\n",
    "h_norm = (h - np.min(h)) / (np.max(h) - np.min(h))\n",
    "\n",
    "avg = igl.avg_edge_length(v, f) / 2.0\n",
    "\n",
    "start_k_min = v + k_min * avg \n",
    "end_k_min   = v - k_min* avg  \n",
    " \n",
    "start_k_max = v + k_max * avg\n",
    "end_k_max   = v - k_max* avg  \n",
    "\n",
    "p = mp.plot(v, f, h_norm, shading={\"wireframe\": False}, return_plot=True)\n",
    "p.add_lines(start_k_min, end_k_min, shading={\"line_color\": \"red\"})\n",
    "p.add_lines(start_k_max, end_k_max, shading={\"line_color\": \"green\"})"
   ]
  },
  {
   "cell_type": "markdown",
   "metadata": {},
   "source": [
    "# Smoothing with the Laplacian"
   ]
  },
  {
   "cell_type": "code",
   "execution_count": 26,
   "metadata": {},
   "outputs": [],
   "source": [
    "from scipy.sparse.linalg import spsolve\n",
    "import scipy.sparse as sp"
   ]
  },
  {
   "cell_type": "code",
   "execution_count": 96,
   "metadata": {
    "scrolled": true
   },
   "outputs": [
    {
     "data": {
      "application/vnd.jupyter.widget-view+json": {
       "model_id": "f15dcf918ba8448a96482743fb07ff52",
       "version_major": 2,
       "version_minor": 0
      },
      "text/plain": [
       "Renderer(camera=PerspectiveCamera(children=(DirectionalLight(color='white', intensity=0.6, position=(-0.087639…"
      ]
     },
     "metadata": {},
     "output_type": "display_data"
    },
    {
     "data": {
      "application/vnd.jupyter.widget-view+json": {
       "model_id": "b152c03e6df0405d879f441778543dc9",
       "version_major": 2,
       "version_minor": 0
      },
      "text/plain": [
       "Renderer(camera=PerspectiveCamera(children=(DirectionalLight(color='white', intensity=0.6, position=(-0.087639…"
      ]
     },
     "metadata": {},
     "output_type": "display_data"
    },
    {
     "data": {
      "text/plain": [
       "<meshplot.Viewer.Viewer at 0x16c482144c0>"
      ]
     },
     "execution_count": 96,
     "metadata": {},
     "output_type": "execute_result"
    }
   ],
   "source": [
    "# Explicit laplacian\n",
    "l = igl.cotmatrix(v, f)\n",
    "\n",
    "n = igl.per_vertex_normals(v, f)*0.5+0.5\n",
    "c = np.linalg.norm(n, axis=1)\n",
    "\n",
    "mm = igl.massmatrix(v, f, igl.MASSMATRIX_TYPE_BARYCENTRIC)\n",
    "\n",
    "vs = [v]\n",
    "cs = [c]\n",
    "for i in range(1000):\n",
    "    m = sp.diags(1 / mm.diagonal())\n",
    "    s = (m - 0.000001 * l)\n",
    "    b = m.dot(v)\n",
    "    v = spsolve(s, b)\n",
    "    n = igl.per_vertex_normals(v, f)*0.5+0.5\n",
    "    c = np.linalg.norm(n, axis=1)\n",
    "    vs.append(v)\n",
    "    cs.append(c)\n",
    "\n",
    "\n",
    "p = mp.plot(vs[0], f, c, shading={\"wireframe\": False})\n",
    "mp.plot(vs[1000], f, c, shading={\"wireframe\": False})"
   ]
  },
  {
   "cell_type": "code",
   "execution_count": 95,
   "metadata": {},
   "outputs": [
    {
     "ename": "KeyboardInterrupt",
     "evalue": "",
     "output_type": "error",
     "traceback": [
      "\u001b[1;31m---------------------------------------------------------------------------\u001b[0m",
      "\u001b[1;31mKeyboardInterrupt\u001b[0m                         Traceback (most recent call last)",
      "Cell \u001b[1;32mIn[95], line 18\u001b[0m\n\u001b[0;32m     16\u001b[0m     s \u001b[38;5;241m=\u001b[39m Minv \u001b[38;5;241m-\u001b[39m lambda_explicit \u001b[38;5;241m*\u001b[39m L\n\u001b[0;32m     17\u001b[0m     b \u001b[38;5;241m=\u001b[39m np\u001b[38;5;241m.\u001b[39mdot(Minv, V_explicit)\n\u001b[1;32m---> 18\u001b[0m     V_explicit \u001b[38;5;241m=\u001b[39m \u001b[43mnp\u001b[49m\u001b[38;5;241;43m.\u001b[39;49m\u001b[43mdot\u001b[49m\u001b[43m(\u001b[49m\u001b[43ms\u001b[49m\u001b[43m,\u001b[49m\u001b[43m \u001b[49m\u001b[43mb\u001b[49m\u001b[43m)\u001b[49m\n\u001b[0;32m     20\u001b[0m \u001b[38;5;66;03m# c = np.linalg.norm(V_explicit, axis=1)\u001b[39;00m\n\u001b[0;32m     22\u001b[0m \u001b[38;5;28mprint\u001b[39m(V_explicit\u001b[38;5;241m.\u001b[39mshape)\n",
      "File \u001b[1;32mc:\\Users\\PhuongPham\\anaconda3\\envs\\gp\\lib\\site-packages\\scipy\\sparse\\_matrix.py:45\u001b[0m, in \u001b[0;36mspmatrix.__mul__\u001b[1;34m(self, other)\u001b[0m\n\u001b[0;32m     44\u001b[0m \u001b[38;5;28;01mdef\u001b[39;00m \u001b[38;5;21m__mul__\u001b[39m(\u001b[38;5;28mself\u001b[39m, other):\n\u001b[1;32m---> 45\u001b[0m     \u001b[38;5;28;01mreturn\u001b[39;00m \u001b[38;5;28;43mself\u001b[39;49m\u001b[38;5;241;43m.\u001b[39;49m\u001b[43m_matmul_dispatch\u001b[49m\u001b[43m(\u001b[49m\u001b[43mother\u001b[49m\u001b[43m)\u001b[49m\n",
      "File \u001b[1;32mc:\\Users\\PhuongPham\\anaconda3\\envs\\gp\\lib\\site-packages\\scipy\\sparse\\_base.py:636\u001b[0m, in \u001b[0;36m_spbase._matmul_dispatch\u001b[1;34m(self, other)\u001b[0m\n\u001b[0;32m    632\u001b[0m     \u001b[38;5;28;01mif\u001b[39;00m N \u001b[38;5;241m!=\u001b[39m other\u001b[38;5;241m.\u001b[39mshape[\u001b[38;5;241m0\u001b[39m]:\n\u001b[0;32m    633\u001b[0m         \u001b[38;5;28;01mraise\u001b[39;00m \u001b[38;5;167;01mValueError\u001b[39;00m(\n\u001b[0;32m    634\u001b[0m             \u001b[38;5;124mf\u001b[39m\u001b[38;5;124m\"\u001b[39m\u001b[38;5;132;01m{\u001b[39;00merr_prefix\u001b[38;5;132;01m}\u001b[39;00m\u001b[38;5;124m (n,k=\u001b[39m\u001b[38;5;132;01m{\u001b[39;00mN\u001b[38;5;132;01m}\u001b[39;00m\u001b[38;5;124m),(k=\u001b[39m\u001b[38;5;132;01m{\u001b[39;00mother\u001b[38;5;241m.\u001b[39mshape[\u001b[38;5;241m0\u001b[39m]\u001b[38;5;132;01m}\u001b[39;00m\u001b[38;5;124m,m)->(n,m)\u001b[39m\u001b[38;5;124m\"\u001b[39m\n\u001b[0;32m    635\u001b[0m         )\n\u001b[1;32m--> 636\u001b[0m     \u001b[38;5;28;01mreturn\u001b[39;00m \u001b[38;5;28;43mself\u001b[39;49m\u001b[38;5;241;43m.\u001b[39;49m\u001b[43m_matmul_sparse\u001b[49m\u001b[43m(\u001b[49m\u001b[43mother\u001b[49m\u001b[43m)\u001b[49m\n\u001b[0;32m    638\u001b[0m \u001b[38;5;66;03m# If it's a list or whatever, treat it like an array\u001b[39;00m\n\u001b[0;32m    639\u001b[0m other_a \u001b[38;5;241m=\u001b[39m np\u001b[38;5;241m.\u001b[39masanyarray(other)\n",
      "File \u001b[1;32mc:\\Users\\PhuongPham\\anaconda3\\envs\\gp\\lib\\site-packages\\scipy\\sparse\\_compressed.py:570\u001b[0m, in \u001b[0;36m_cs_matrix._matmul_sparse\u001b[1;34m(self, other)\u001b[0m\n\u001b[0;32m    566\u001b[0m idx_dtype \u001b[38;5;241m=\u001b[39m \u001b[38;5;28mself\u001b[39m\u001b[38;5;241m.\u001b[39m_get_index_dtype((\u001b[38;5;28mself\u001b[39m\u001b[38;5;241m.\u001b[39mindptr, \u001b[38;5;28mself\u001b[39m\u001b[38;5;241m.\u001b[39mindices,\n\u001b[0;32m    567\u001b[0m                              other\u001b[38;5;241m.\u001b[39mindptr, other\u001b[38;5;241m.\u001b[39mindices))\n\u001b[0;32m    569\u001b[0m fn \u001b[38;5;241m=\u001b[39m \u001b[38;5;28mgetattr\u001b[39m(_sparsetools, \u001b[38;5;28mself\u001b[39m\u001b[38;5;241m.\u001b[39mformat \u001b[38;5;241m+\u001b[39m \u001b[38;5;124m'\u001b[39m\u001b[38;5;124m_matmat_maxnnz\u001b[39m\u001b[38;5;124m'\u001b[39m)\n\u001b[1;32m--> 570\u001b[0m nnz \u001b[38;5;241m=\u001b[39m \u001b[43mfn\u001b[49m\u001b[43m(\u001b[49m\u001b[43mM\u001b[49m\u001b[43m,\u001b[49m\u001b[43m \u001b[49m\u001b[43mN\u001b[49m\u001b[43m,\u001b[49m\n\u001b[0;32m    571\u001b[0m \u001b[43m         \u001b[49m\u001b[43mnp\u001b[49m\u001b[38;5;241;43m.\u001b[39;49m\u001b[43masarray\u001b[49m\u001b[43m(\u001b[49m\u001b[38;5;28;43mself\u001b[39;49m\u001b[38;5;241;43m.\u001b[39;49m\u001b[43mindptr\u001b[49m\u001b[43m,\u001b[49m\u001b[43m \u001b[49m\u001b[43mdtype\u001b[49m\u001b[38;5;241;43m=\u001b[39;49m\u001b[43midx_dtype\u001b[49m\u001b[43m)\u001b[49m\u001b[43m,\u001b[49m\n\u001b[0;32m    572\u001b[0m \u001b[43m         \u001b[49m\u001b[43mnp\u001b[49m\u001b[38;5;241;43m.\u001b[39;49m\u001b[43masarray\u001b[49m\u001b[43m(\u001b[49m\u001b[38;5;28;43mself\u001b[39;49m\u001b[38;5;241;43m.\u001b[39;49m\u001b[43mindices\u001b[49m\u001b[43m,\u001b[49m\u001b[43m \u001b[49m\u001b[43mdtype\u001b[49m\u001b[38;5;241;43m=\u001b[39;49m\u001b[43midx_dtype\u001b[49m\u001b[43m)\u001b[49m\u001b[43m,\u001b[49m\n\u001b[0;32m    573\u001b[0m \u001b[43m         \u001b[49m\u001b[43mnp\u001b[49m\u001b[38;5;241;43m.\u001b[39;49m\u001b[43masarray\u001b[49m\u001b[43m(\u001b[49m\u001b[43mother\u001b[49m\u001b[38;5;241;43m.\u001b[39;49m\u001b[43mindptr\u001b[49m\u001b[43m,\u001b[49m\u001b[43m \u001b[49m\u001b[43mdtype\u001b[49m\u001b[38;5;241;43m=\u001b[39;49m\u001b[43midx_dtype\u001b[49m\u001b[43m)\u001b[49m\u001b[43m,\u001b[49m\n\u001b[0;32m    574\u001b[0m \u001b[43m         \u001b[49m\u001b[43mnp\u001b[49m\u001b[38;5;241;43m.\u001b[39;49m\u001b[43masarray\u001b[49m\u001b[43m(\u001b[49m\u001b[43mother\u001b[49m\u001b[38;5;241;43m.\u001b[39;49m\u001b[43mindices\u001b[49m\u001b[43m,\u001b[49m\u001b[43m \u001b[49m\u001b[43mdtype\u001b[49m\u001b[38;5;241;43m=\u001b[39;49m\u001b[43midx_dtype\u001b[49m\u001b[43m)\u001b[49m\u001b[43m)\u001b[49m\n\u001b[0;32m    575\u001b[0m \u001b[38;5;28;01mif\u001b[39;00m nnz \u001b[38;5;241m==\u001b[39m \u001b[38;5;241m0\u001b[39m:\n\u001b[0;32m    576\u001b[0m     \u001b[38;5;28;01mif\u001b[39;00m new_shape \u001b[38;5;241m==\u001b[39m ():\n",
      "\u001b[1;31mKeyboardInterrupt\u001b[0m: "
     ]
    }
   ],
   "source": [
    "V, F = igl.read_triangle_mesh(\"data/cow.off\")\n",
    "L = igl.cotmatrix(V, F)\n",
    "\n",
    "# Compute the mass matrix\n",
    "M = igl.massmatrix(V, F, igl.MASSMATRIX_TYPE_BARYCENTRIC)\n",
    "M_diag = M.diagonal()\n",
    "Minv = sp.diags(1 / M_diag)\n",
    "\n",
    "lambda_explicit = 0.000001\n",
    "iterations_explicit = 1000\n",
    "\n",
    "\n",
    "V_explicit = [V]\n",
    "for d in range(iterations_explicit):\n",
    "    # Compute the Laplacian (gradient) for explicit smoothing\n",
    "    s = Minv - lambda_explicit * L\n",
    "    b = np.dot(Minv, V_explicit)\n",
    "    V_explicit = np.dot(s, b)\n",
    "    \n",
    "# c = np.linalg.norm(V_explicit, axis=1)\n",
    "\n",
    "print(V_explicit.shape)\n",
    "mp.plot(V_explicit, F, shading={\"colormap\": \"plasma\"})"
   ]
  },
  {
   "cell_type": "code",
   "execution_count": 28,
   "metadata": {},
   "outputs": [],
   "source": [
    "# Implicit laplacian\n"
   ]
  },
  {
   "cell_type": "code",
   "execution_count": null,
   "metadata": {},
   "outputs": [],
   "source": []
  }
 ],
 "metadata": {
  "kernelspec": {
   "display_name": "gp",
   "language": "python",
   "name": "python3"
  },
  "language_info": {
   "codemirror_mode": {
    "name": "ipython",
    "version": 3
   },
   "file_extension": ".py",
   "mimetype": "text/x-python",
   "name": "python",
   "nbconvert_exporter": "python",
   "pygments_lexer": "ipython3",
   "version": "3.10.16"
  }
 },
 "nbformat": 4,
 "nbformat_minor": 4
}
