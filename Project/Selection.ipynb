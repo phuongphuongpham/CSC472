{
 "cells": [
  {
   "cell_type": "code",
   "execution_count": 1,
   "id": "opposed-yesterday",
   "metadata": {},
   "outputs": [],
   "source": [
    "import numpy as np\n",
    "import igl\n",
    "import meshplot as mp\n",
    "from scipy.spatial.transform import Rotation\n",
    "import ipywidgets as iw"
   ]
  },
  {
   "cell_type": "code",
   "execution_count": 2,
   "id": "thick-functionality",
   "metadata": {},
   "outputs": [],
   "source": [
    "with np.load('data/octa_sphere_5.npz') as npl:\n",
    "    v_s, f_s = npl['v'], npl['f']"
   ]
  },
  {
   "cell_type": "code",
   "execution_count": 3,
   "id": "incident-canon",
   "metadata": {},
   "outputs": [
    {
     "name": "stdout",
     "output_type": "stream",
     "text": [
      "(2642, 3)\n",
      "(5040, 3)\n",
      "[[  1.  246.5   0. ]\n",
      " [  2.5 252.5   0. ]\n",
      " [  5.  258.    0. ]\n",
      " [  8.  263.    0. ]\n",
      " [ 12.  267.    0. ]]\n",
      "[[ 412  534  532]\n",
      " [ 827  397  539]\n",
      " [ 319  326  322]\n",
      " [ 531  533  191]\n",
      " [ 311  306 2208]]\n"
     ]
    }
   ],
   "source": [
    "v, f = igl.read_triangle_mesh('data/woody-hi.off')\n",
    "segments_recording = np.zeros(len(v), dtype=int)\n",
    "print(v.shape)\n",
    "print(f.shape)\n",
    "print(v[:5])  # First 5 vertices\n",
    "print(f[:5])  # First 5 faces (indices of vertices)\n"
   ]
  },
  {
   "cell_type": "code",
   "execution_count": 4,
   "id": "prompt-bernard",
   "metadata": {},
   "outputs": [],
   "source": [
    "v -= v.min(axis=0)\n",
    "v /= v.max()"
   ]
  },
  {
   "cell_type": "code",
   "execution_count": 5,
   "id": "available-discipline",
   "metadata": {},
   "outputs": [
    {
     "data": {
      "application/vnd.jupyter.widget-view+json": {
       "model_id": "4b9d6e03bdde487ea715b88c8918bb5c",
       "version_major": 2,
       "version_minor": 0
      },
      "text/plain": [
       "interactive(children=(ToggleButtons(description='Segment', options=(1, '+'), value=1), Output()), _dom_classes…"
      ]
     },
     "metadata": {},
     "output_type": "display_data"
    },
    {
     "data": {
      "application/vnd.jupyter.widget-view+json": {
       "model_id": "bd7f6d9d75a0429abe9eaab084164cbc",
       "version_major": 2,
       "version_minor": 0
      },
      "text/plain": [
       "HBox(children=(Button(description='Paint!', style=ButtonStyle()), Button(description='Clear!', style=ButtonSty…"
      ]
     },
     "metadata": {},
     "output_type": "display_data"
    },
    {
     "data": {
      "application/vnd.jupyter.widget-view+json": {
       "model_id": "aa3b7fa5e2b54e2cb5365dfbdbb7b7b2",
       "version_major": 2,
       "version_minor": 0
      },
      "text/plain": [
       "Renderer(camera=PerspectiveCamera(children=(DirectionalLight(color='white', intensity=0.6, position=(0.4306930…"
      ]
     },
     "metadata": {},
     "output_type": "display_data"
    },
    {
     "ename": "TypeError",
     "evalue": "Viewer.add_mesh() got an unexpected keyword argument 'flat'",
     "output_type": "error",
     "traceback": [
      "\u001b[1;31m---------------------------------------------------------------------------\u001b[0m",
      "\u001b[1;31mTypeError\u001b[0m                                 Traceback (most recent call last)",
      "Cell \u001b[1;32mIn[5], line 29\u001b[0m\n\u001b[0;32m     27\u001b[0m \u001b[38;5;66;03m# Meshplot\u001b[39;00m\n\u001b[0;32m     28\u001b[0m paint_ui \u001b[38;5;241m=\u001b[39m mp\u001b[38;5;241m.\u001b[39mplot(v,f,c\u001b[38;5;241m=\u001b[39msegments_recording)\n\u001b[1;32m---> 29\u001b[0m \u001b[43mpaint_ui\u001b[49m\u001b[38;5;241;43m.\u001b[39;49m\u001b[43madd_mesh\u001b[49m\u001b[43m(\u001b[49m\u001b[43mv_s\u001b[49m\u001b[38;5;241;43m*\u001b[39;49m\u001b[38;5;241;43m0.1\u001b[39;49m\u001b[43m,\u001b[49m\u001b[43m \u001b[49m\u001b[43mf_s\u001b[49m\u001b[43m,\u001b[49m\u001b[43m \u001b[49m\u001b[43mflat\u001b[49m\u001b[38;5;241;43m=\u001b[39;49m\u001b[38;5;28;43;01mFalse\u001b[39;49;00m\u001b[43m,\u001b[49m\u001b[43m \u001b[49m\u001b[43mc\u001b[49m\u001b[38;5;241;43m=\u001b[39;49m\u001b[43mnp\u001b[49m\u001b[38;5;241;43m.\u001b[39;49m\u001b[43marray\u001b[49m\u001b[43m(\u001b[49m\u001b[43m[\u001b[49m\u001b[38;5;241;43m1\u001b[39;49m\u001b[43m,\u001b[49m\u001b[38;5;241;43m0\u001b[39;49m\u001b[43m,\u001b[49m\u001b[38;5;241;43m0\u001b[39;49m\u001b[43m]\u001b[49m\u001b[43m)\u001b[49m\u001b[43m)\u001b[49m\n\u001b[0;32m     30\u001b[0m \u001b[38;5;28;01mdef\u001b[39;00m\u001b[38;5;250m \u001b[39m\u001b[38;5;21msf\u001b[39m(radius,x,y,z):\n\u001b[0;32m     31\u001b[0m     paint_ui\u001b[38;5;241m.\u001b[39mupdate_object(oid \u001b[38;5;241m=\u001b[39m \u001b[38;5;241m1\u001b[39m, vertices \u001b[38;5;241m=\u001b[39m v_s\u001b[38;5;241m*\u001b[39mradius \u001b[38;5;241m+\u001b[39m np\u001b[38;5;241m.\u001b[39marray([x,y,z]))\n",
      "\u001b[1;31mTypeError\u001b[0m: Viewer.add_mesh() got an unexpected keyword argument 'flat'"
     ]
    }
   ],
   "source": [
    "tb = iw.ToggleButtons(description='Segment', options=[1,'+'])\n",
    "@mp.interact(x=tb)\n",
    "def s_but(x):\n",
    "    if x == '+':\n",
    "        tb.options = list(range(1,len(tb.options)+1)) + ['+']\n",
    "        tb.value = len(tb.options) - 1\n",
    "    else:\n",
    "        tb.current = x\n",
    "\n",
    "button = iw.Button(description=\"Paint!\")\n",
    "clear_button = iw.Button(description=\"Clear!\")\n",
    "\n",
    "# Set Callback\n",
    "def paint_clicked(b):\n",
    "    slicer = np.where(np.linalg.norm(v - sf.coord[1:],axis=1) < sf.coord[0])[0]\n",
    "    segments_recording[slicer] = tb.current\n",
    "    paint_ui.update_object(oid=0, colors=segments_recording)\n",
    "def clear_clicked(b):\n",
    "    segments_recording[segments_recording == tb.current] = 0\n",
    "    paint_ui.update_object(oid=0, colors=segments_recording)\n",
    "button.on_click(paint_clicked)\n",
    "clear_button.on_click(clear_clicked)\n",
    "\n",
    "# Display Buttons\n",
    "display(iw.HBox([button, clear_button]))\n",
    "\n",
    "# Meshplot\n",
    "paint_ui = mp.plot(v,f,c=segments_recording)\n",
    "paint_ui.add_mesh(v_s*0.1, f_s, flat=False, c=np.array([1,0,0]))\n",
    "def sf(radius,x,y,z):\n",
    "    paint_ui.update_object(oid = 1, vertices = v_s*radius + np.array([x,y,z]))\n",
    "    sf.coord = [radius,x,y,z]\n",
    "mp.interact(sf, \n",
    "            radius = iw.FloatSlider(min=0.1, max=1, value=0.1),\n",
    "            x = iw.FloatSlider(min=-0.1, max=1, value=0),\n",
    "            y = iw.FloatSlider(min=-0.1, max=1, value=0),\n",
    "            z = iw.FloatSlider(min=-0.1, max=1, value=0))"
   ]
  },
  {
   "cell_type": "code",
   "execution_count": null,
   "id": "voluntary-button",
   "metadata": {},
   "outputs": [],
   "source": [
    "np.save('data/woody-hi.label.npy', segments_recording)"
   ]
  },
  {
   "cell_type": "code",
   "execution_count": null,
   "id": "liquid-painting",
   "metadata": {},
   "outputs": [],
   "source": []
  }
 ],
 "metadata": {
  "kernelspec": {
   "display_name": "gp",
   "language": "python",
   "name": "python3"
  },
  "language_info": {
   "codemirror_mode": {
    "name": "ipython",
    "version": 3
   },
   "file_extension": ".py",
   "mimetype": "text/x-python",
   "name": "python",
   "nbconvert_exporter": "python",
   "pygments_lexer": "ipython3",
   "version": "3.10.16"
  }
 },
 "nbformat": 4,
 "nbformat_minor": 5
}
