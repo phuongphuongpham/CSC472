{
 "cells": [
  {
   "cell_type": "code",
   "execution_count": 15,
   "id": "local-investor",
   "metadata": {},
   "outputs": [],
   "source": [
    "import numpy as np\n",
    "import igl\n",
    "import meshplot as mp\n",
    "from scipy.spatial.transform import Rotation\n",
    "import ipywidgets as iw\n",
    "import time\n",
    "import scipy.sparse\n",
    "import scipy.sparse.linalg\n"
   ]
  },
  {
   "cell_type": "code",
   "execution_count": 16,
   "id": "pharmaceutical-transsexual",
   "metadata": {},
   "outputs": [
    {
     "data": {
      "application/vnd.jupyter.widget-view+json": {
       "model_id": "6ec3c174c724453c84a32ec95a11b132",
       "version_major": 2,
       "version_minor": 0
      },
      "text/plain": [
       "Renderer(camera=PerspectiveCamera(children=(DirectionalLight(color='white', intensity=0.6, position=(0.5, 0.19…"
      ]
     },
     "metadata": {},
     "output_type": "display_data"
    },
    {
     "data": {
      "text/plain": [
       "<meshplot.Viewer.Viewer at 0x24a25318b50>"
      ]
     },
     "execution_count": 16,
     "metadata": {},
     "output_type": "execute_result"
    }
   ],
   "source": [
    "v, f = igl.read_triangle_mesh('data/hand.off')\n",
    "labels = np.load('data/hand.label.npy').astype(int)\n",
    "v -= v.min(axis=0)\n",
    "v /= v.max()\n",
    "mp.plot(v, f, c=labels)"
   ]
  },
  {
   "cell_type": "code",
   "execution_count": 17,
   "id": "4a6387cd",
   "metadata": {},
   "outputs": [],
   "source": [
    "# labels = np.load(\"data/woody-hi.label.npy\")\n",
    "# v, f = igl.read_triangle_mesh(\"data/woody-hi.off\")\n",
    "# p = mp.plot(v, f, c=labels)\n",
    "# v -= v.min(axis=0)\n",
    "# v /= v.max()"
   ]
  },
  {
   "cell_type": "code",
   "execution_count": 18,
   "id": "3bbf7cba",
   "metadata": {},
   "outputs": [
    {
     "data": {
      "application/vnd.jupyter.widget-view+json": {
       "model_id": "d27bd0bb160b4f149324969c035528ab",
       "version_major": 2,
       "version_minor": 0
      },
      "text/plain": [
       "Renderer(camera=PerspectiveCamera(children=(DirectionalLight(color='white', intensity=0.6, position=(0.5, 0.19…"
      ]
     },
     "metadata": {},
     "output_type": "display_data"
    }
   ],
   "source": [
    "# COMPUTING B: \n",
    "handles_indices = np.where(labels > 0)[0]\n",
    "free_indices = np.where(labels == 0)[0]\n",
    "\n",
    "L = igl.cotmatrix(v, f)\n",
    "M = igl.massmatrix(v, f, igl.MASSMATRIX_TYPE_VORONOI)\n",
    "Minv_diag = 1 / M.diagonal()\n",
    "Minv = np.diag(Minv_diag)\n",
    "\n",
    "# bi-Laplacian\n",
    "Q2 = Minv @ L @ L\n",
    "Q2_free = Q2[free_indices, :][:, free_indices]\n",
    "Q2_mixed = Q2[free_indices, :][:, handles_indices]\n",
    "rhs = -Q2_mixed @ v[handles_indices]\n",
    "\n",
    "v_smooth = v.copy()\n",
    "for i in range(3): #x,y,z\n",
    "    v_smooth[free_indices, i]    = np.linalg.solve(Q2_free, rhs[:, i])\n",
    "    v_smooth[handles_indices, i] = v[handles_indices, i]\n",
    "\n",
    "B = v_smooth.copy()\n",
    "p = mp.plot(v_smooth, f, c=labels)"
   ]
  },
  {
   "cell_type": "code",
   "execution_count": 19,
   "id": "divine-variety",
   "metadata": {},
   "outputs": [
    {
     "data": {
      "application/vnd.jupyter.widget-view+json": {
       "model_id": "2332651559fa43f1b3dd779cfd14558c",
       "version_major": 2,
       "version_minor": 0
      },
      "text/plain": [
       "Renderer(camera=PerspectiveCamera(children=(DirectionalLight(color='white', intensity=0.6, position=(0.5, 0.19…"
      ]
     },
     "metadata": {},
     "output_type": "display_data"
    },
    {
     "data": {
      "text/plain": [
       "<meshplot.Viewer.Viewer at 0x24a8b8ce740>"
      ]
     },
     "execution_count": 19,
     "metadata": {},
     "output_type": "execute_result"
    }
   ],
   "source": [
    "# COMPUTING B'(Bc):\n",
    "def position_deformer(target_pos):\n",
    "    '''Fill in this function to change positions'''\n",
    "    Bc = target_pos.copy()\n",
    "    free = free_indices\n",
    "    handles = handles_indices\n",
    "    \n",
    "    rhs = -Q2_mixed @ Bc[handles]\n",
    "\n",
    "    for i in range(3): #x,y,z\n",
    "        Bc[free, i] = np.linalg.solve(Q2_free, rhs[:, i])\n",
    "        Bc[handles, i] = target_pos[handles_indices, i]\n",
    "\n",
    "    return Bc\n",
    "''' (Optional) Register this function to perform interactive deformation\n",
    "pos_f.deformer = position_deformer\n",
    "'''\n",
    "Bc = position_deformer(B)\n",
    "mp.plot(Bc, f, c=labels)\n",
    "# pos_f.deformer = position_deformer"
   ]
  },
  {
   "cell_type": "code",
   "execution_count": 20,
   "id": "ddcf1b1d",
   "metadata": {},
   "outputs": [],
   "source": [
    "handle_vertex_positions = B.copy()\n",
    "# handle_vertex_positions = v.copy()\n",
    "\n",
    "pos_f_saver = np.zeros((labels.max() + 1, 6))\n",
    "def pos_f(s,x,y,z, α, β, γ):\n",
    "    slices = (labels==s)\n",
    "    r = Rotation.from_euler('xyz', [α, β, γ], degrees=True)\n",
    "    v_slice = B[slices] + np.array([[x,y,z]])\n",
    "    center = v_slice.mean(axis=0)\n",
    "    handle_vertex_positions[slices] = r.apply(v_slice - center) + center\n",
    "    pos_f_saver[s - 1] = [x,y,z,α,β,γ]\n",
    "    t0 = time.time()\n",
    "    v_deformed = pos_f.deformer(handle_vertex_positions)\n",
    "    p.update_object(vertices = v_deformed)\n",
    "    t1 = time.time()\n",
    "    print(\"v.shape:\", v.shape)\n",
    "    print(\"labels.shape:\", labels.shape)\n",
    "    print(\"slices shape:\", slices.shape)\n",
    "    print(\"np.sum(slices):\", np.sum(slices))\n",
    "\n",
    "    print('FPS', 1/(t1 - t0))\n",
    "# pos_f.deformer = lambda x:x\n",
    "pos_f.deformer = position_deformer"
   ]
  },
  {
   "cell_type": "code",
   "execution_count": 21,
   "id": "stone-element",
   "metadata": {},
   "outputs": [],
   "source": [
    "def widgets_wrapper():\n",
    "    segment_widget = iw.Dropdown(options=np.arange(labels.max()) + 1)\n",
    "    translate_widget = {i:iw.FloatSlider(min=-1, max=1, value=0) \n",
    "                        for i in 'xyz'}\n",
    "    rotate_widget = {a:iw.FloatSlider(min=-90, max=90, value=0, step=1) \n",
    "                     for a in 'αβγ'}\n",
    "\n",
    "    def update_seg(*args):\n",
    "        (translate_widget['x'].value,translate_widget['y'].value,\n",
    "        translate_widget['z'].value,\n",
    "        rotate_widget['α'].value,rotate_widget['β'].value,\n",
    "        rotate_widget['γ'].value) = pos_f_saver[segment_widget.value]\n",
    "    segment_widget.observe(update_seg, 'value')\n",
    "    widgets_dict = dict(s=segment_widget)\n",
    "    widgets_dict.update(translate_widget)\n",
    "    widgets_dict.update(rotate_widget)\n",
    "    return widgets_dict"
   ]
  },
  {
   "cell_type": "code",
   "execution_count": 22,
   "id": "proprietary-prediction",
   "metadata": {},
   "outputs": [
    {
     "data": {
      "application/vnd.jupyter.widget-view+json": {
       "model_id": "ed293936226d46aba345a7e505f959de",
       "version_major": 2,
       "version_minor": 0
      },
      "text/plain": [
       "Renderer(camera=PerspectiveCamera(children=(DirectionalLight(color='white', intensity=0.6, position=(0.5, 0.19…"
      ]
     },
     "metadata": {},
     "output_type": "display_data"
    },
    {
     "data": {
      "application/vnd.jupyter.widget-view+json": {
       "model_id": "42812357cccd48399a0fd13410f85107",
       "version_major": 2,
       "version_minor": 0
      },
      "text/plain": [
       "interactive(children=(Dropdown(description='s', options=(1, 2, 3, 4), value=1), FloatSlider(value=0.0, descrip…"
      ]
     },
     "metadata": {},
     "output_type": "display_data"
    },
    {
     "data": {
      "text/plain": [
       "<function __main__.pos_f(s, x, y, z, α, β, γ)>"
      ]
     },
     "execution_count": 22,
     "metadata": {},
     "output_type": "execute_result"
    }
   ],
   "source": [
    "## Widget UI\n",
    "\n",
    "p = mp.plot(handle_vertex_positions, f, c=labels)\n",
    "iw.interact(pos_f,\n",
    "            **widgets_wrapper())"
   ]
  },
  {
   "cell_type": "code",
   "execution_count": 23,
   "id": "0df1f14d",
   "metadata": {},
   "outputs": [],
   "source": [
    "# compute orthogonal reference frame on every vertex v of B \n",
    "\n",
    "# (1) unit vertex normal\n",
    "n = igl.per_vertex_normals(B, f) \n",
    "\n",
    "# (2)\n",
    "VF = [[] for _ in range(len(v))]\n",
    "for face in f:\n",
    "    for i in range(3):\n",
    "        a = face[i]\n",
    "        b = face[(i + 1) % 3]\n",
    "        VF[a].append(b)\n",
    "        VF[b].append(a)\n",
    "\n",
    "t = np.zeros_like(B)\n",
    "used_edge = np.zeros(len(B), dtype=int)   \n",
    "for i in range(len(v)):\n",
    "    vi = B[i]\n",
    "    ni = n[i]\n",
    "    max_proj = 0\n",
    "    best_vec = None\n",
    "    best_j = -1\n",
    "    for j, nei in enumerate(VF[i]):\n",
    "        edge = B[nei] - vi\n",
    "        proj = edge - np.dot(edge, ni) * ni  # v project onto tangent plane\n",
    "        length = np.linalg.norm(proj)\n",
    "        if length > max_proj: # finding longest projection\n",
    "            max_proj = length\n",
    "            best_vec = proj / length\n",
    "            best_j = nei\n",
    "    # print(max_proj)\n",
    "    if best_vec is not None:\n",
    "        t[i] = best_vec\n",
    "        used_edge[i] = best_j\n",
    "    else:\n",
    "        t[i] = np.array([1.0, 0.0, 0.0]) \n",
    "\n",
    "b = np.cross(n, t) # Cross Product of (1) and (2)\n",
    "\n"
   ]
  },
  {
   "cell_type": "code",
   "execution_count": 24,
   "id": "4297e56d",
   "metadata": {},
   "outputs": [],
   "source": [
    "tB, bB, nB = t, b, n\n",
    "fB = np.stack([tB, bB, nB], axis=2) # n, 3, 3 \n",
    "\n",
    "# displacements from v to B in B's frame\n",
    "dB = np.zeros_like(v)\n",
    "for i in range(len(v)):\n",
    "    disp = v[i] - B[i]\n",
    "    dB[i] = fB[i].T @ disp\n",
    "\n",
    "# Bc reference frames using same edges\n",
    "nBc = igl.per_vertex_normals(Bc, f)\n",
    "tBc = np.zeros_like(v)\n",
    "for i in range(len(v)):\n",
    "    if used_edge[i] == -1:\n",
    "        tBc[i] = tB[i]\n",
    "    edge = Bc[used_edge[i]] - Bc[i]\n",
    "    projection = edge - np.dot(edge, nBc[i]) * nBc[i]\n",
    "    norm = np.linalg.norm(projection)\n",
    "    if norm > 1e-6:\n",
    "        tBc[i] = projection / norm  \n",
    "    else:\n",
    "        tBc[i] = tB[i]\n",
    "\n",
    "bBc = np.cross(nBc, tBc)\n",
    "fBc = np.stack([tBc,bBc,nBc], axis = 2)\n",
    "\n",
    "# Bc -> S'\n",
    "Sc = np.zeros_like(v)\n",
    "for i in range(len(v)):\n",
    "    Sc[i] = Bc[i] +fBc[i] @ dB[i]\n",
    "\n",
    "# print(np.linalg.norm(fBc[:, 0], axis=1))  \n",
    "# print(np.linalg.norm(fBc[:, 1], axis=1))  \n",
    "# print(np.linalg.norm(fBc[:, 2], axis=1)) \n",
    "\n",
    "\n"
   ]
  },
  {
   "cell_type": "code",
   "execution_count": 25,
   "id": "8f3f9c3a",
   "metadata": {},
   "outputs": [
    {
     "data": {
      "application/vnd.jupyter.widget-view+json": {
       "model_id": "4ebc2faf37fc4b74880f9f752e53fff8",
       "version_major": 2,
       "version_minor": 0
      },
      "text/plain": [
       "Renderer(camera=PerspectiveCamera(children=(DirectionalLight(color='white', intensity=0.6, position=(0.5, 0.19…"
      ]
     },
     "metadata": {},
     "output_type": "display_data"
    },
    {
     "data": {
      "text/plain": [
       "1"
      ]
     },
     "execution_count": 25,
     "metadata": {},
     "output_type": "execute_result"
    }
   ],
   "source": [
    "# B with displacements\n",
    "p1 = mp.plot(B, f, c=labels)\n",
    "p1.add_lines(B, v, shading={\"line_color\": \"red\"}) \n"
   ]
  },
  {
   "cell_type": "code",
   "execution_count": 26,
   "id": "8d33fd04",
   "metadata": {},
   "outputs": [
    {
     "data": {
      "application/vnd.jupyter.widget-view+json": {
       "model_id": "ab998db5b16c42cdad9cf2bf57c6477a",
       "version_major": 2,
       "version_minor": 0
      },
      "text/plain": [
       "Renderer(camera=PerspectiveCamera(children=(DirectionalLight(color='white', intensity=0.6, position=(0.5, 0.19…"
      ]
     },
     "metadata": {},
     "output_type": "display_data"
    },
    {
     "data": {
      "text/plain": [
       "1"
      ]
     },
     "execution_count": 26,
     "metadata": {},
     "output_type": "execute_result"
    }
   ],
   "source": [
    "# B' with displacements\n",
    "p2 = mp.plot(Bc, f, c=labels)\n",
    "p2.add_lines(Bc, Sc, shading={\"line_color\": \"green\"}) "
   ]
  },
  {
   "cell_type": "code",
   "execution_count": 27,
   "id": "2514369a",
   "metadata": {},
   "outputs": [
    {
     "data": {
      "application/vnd.jupyter.widget-view+json": {
       "model_id": "40e9036cd1f249c5b46db193e22b649b",
       "version_major": 2,
       "version_minor": 0
      },
      "text/plain": [
       "Renderer(camera=PerspectiveCamera(children=(DirectionalLight(color='white', intensity=0.6, position=(0.5, 0.19…"
      ]
     },
     "metadata": {},
     "output_type": "display_data"
    },
    {
     "data": {
      "application/vnd.jupyter.widget-view+json": {
       "model_id": "4560c6a042e84ac89bb8a642784807ea",
       "version_major": 2,
       "version_minor": 0
      },
      "text/plain": [
       "interactive(children=(Dropdown(description='s', options=(1, 2, 3, 4), value=1), FloatSlider(value=0.0, descrip…"
      ]
     },
     "metadata": {},
     "output_type": "display_data"
    },
    {
     "data": {
      "text/plain": [
       "<function __main__.pos_f_Sc(s, x, y, z, α, β, γ)>"
      ]
     },
     "execution_count": 27,
     "metadata": {},
     "output_type": "execute_result"
    }
   ],
   "source": [
    "## Widget UI\n",
    "p_Sc = mp.plot(handle_vertex_positions, f, c=labels)\n",
    "def pos_f_Sc(s, x, y, z, α, β, γ):\n",
    "    slices = (labels == s)\n",
    "    r = Rotation.from_euler('xyz', [α, β, γ], degrees=True)\n",
    "    v_slice = B[slices] + np.array([[x, y, z]])\n",
    "    center = v_slice.mean(axis=0)\n",
    "    handle_vertex_positions[slices] = r.apply(v_slice - center) + center\n",
    "    pos_f_saver[s - 1] = [x, y, z, α, β, γ]\n",
    "\n",
    "    Bc = pos_f_Sc.deformer(handle_vertex_positions)\n",
    "    \n",
    "    # Bc reference frames using same edges\n",
    "    nBc = igl.per_vertex_normals(Bc, f)\n",
    "    tBc = np.zeros_like(v)\n",
    "    for i in range(len(v)):\n",
    "        if used_edge[i] == -1:\n",
    "            tBc[i] = tB[i]\n",
    "        edge = Bc[used_edge[i]] - Bc[i]\n",
    "        projection = edge - np.dot(edge, nBc[i]) * nBc[i]\n",
    "        norm = np.linalg.norm(projection)\n",
    "        if norm > 1e-6:\n",
    "            tBc[i] = projection / norm  \n",
    "        else:\n",
    "            tBc[i] = tB[i]\n",
    "\n",
    "    bBc = np.cross(nBc, tBc)\n",
    "    fBc = np.stack([tBc,bBc,nBc], axis = 2)\n",
    "\n",
    "    # Bc -> S'\n",
    "    Sc = np.zeros_like(v)\n",
    "    for i in range(len(v)):\n",
    "        Sc[i] = Bc[i] +fBc[i] @ dB[i]\n",
    "    p_Sc.update_object(vertices=Sc)\n",
    "\n",
    "\n",
    "pos_f_Sc.deformer = position_deformer\n",
    "iw.interact(pos_f_Sc, **widgets_wrapper())"
   ]
  }
 ],
 "metadata": {
  "kernelspec": {
   "display_name": "gp",
   "language": "python",
   "name": "python3"
  },
  "language_info": {
   "codemirror_mode": {
    "name": "ipython",
    "version": 3
   },
   "file_extension": ".py",
   "mimetype": "text/x-python",
   "name": "python",
   "nbconvert_exporter": "python",
   "pygments_lexer": "ipython3",
   "version": "3.10.16"
  }
 },
 "nbformat": 4,
 "nbformat_minor": 5
}
