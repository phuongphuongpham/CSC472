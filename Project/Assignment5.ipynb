{
 "cells": [
  {
   "cell_type": "code",
   "execution_count": null,
   "id": "local-investor",
   "metadata": {},
   "outputs": [],
   "source": [
    "import numpy as np\n",
    "import igl\n",
    "import meshplot as mp\n",
    "from scipy.spatial.transform import Rotation\n",
    "import ipywidgets as iw\n",
    "import time\n",
    "import scipy.sparse\n",
    "import scipy.sparse.linalg\n"
   ]
  },
  {
   "cell_type": "code",
   "execution_count": null,
   "id": "pharmaceutical-transsexual",
   "metadata": {},
   "outputs": [
    {
     "data": {
      "application/vnd.jupyter.widget-view+json": {
       "model_id": "2e4177e445154dc79d43858fdc631986",
       "version_major": 2,
       "version_minor": 0
      },
      "text/plain": [
       "Renderer(camera=PerspectiveCamera(children=(DirectionalLight(color='white', intensity=0.6, position=(0.5, 0.19…"
      ]
     },
     "metadata": {},
     "output_type": "display_data"
    },
    {
     "data": {
      "text/plain": [
       "<meshplot.Viewer.Viewer at 0x27a1f23c130>"
      ]
     },
     "execution_count": 195,
     "metadata": {},
     "output_type": "execute_result"
    }
   ],
   "source": [
    "v, f = igl.read_triangle_mesh('data/hand.off')\n",
    "labels = np.load('data/hand.label.npy').astype(int)\n",
    "v -= v.min(axis=0)\n",
    "v /= v.max()\n",
    "mp.plot(v, f, c=labels)"
   ]
  },
  {
   "cell_type": "code",
   "execution_count": null,
   "id": "4a6387cd",
   "metadata": {},
   "outputs": [],
   "source": [
    "# labels = np.load(\"data/woody-hi.label.npy\")\n",
    "# v, f = igl.read_triangle_mesh(\"data/woody-hi.off\")\n",
    "# p = mp.plot(v, f, c=labels)\n",
    "# v -= v.min(axis=0)\n",
    "# v /= v.max()"
   ]
  },
  {
   "cell_type": "code",
   "execution_count": null,
   "id": "3bbf7cba",
   "metadata": {},
   "outputs": [
    {
     "data": {
      "application/vnd.jupyter.widget-view+json": {
       "model_id": "c07828b637244f63a13e3171ed1e2259",
       "version_major": 2,
       "version_minor": 0
      },
      "text/plain": [
       "Renderer(camera=PerspectiveCamera(children=(DirectionalLight(color='white', intensity=0.6, position=(0.5, 0.19…"
      ]
     },
     "metadata": {},
     "output_type": "display_data"
    },
    {
     "data": {
      "text/plain": [
       "<meshplot.Viewer.Viewer at 0x27b5ce54b80>"
      ]
     },
     "execution_count": 197,
     "metadata": {},
     "output_type": "execute_result"
    }
   ],
   "source": [
    "# COMPUTING B: \n",
    "handles_indices = np.where(labels > 0)[0]\n",
    "free_indices = np.where(labels == 0)[0]\n",
    "\n",
    "L = igl.cotmatrix(v, f)\n",
    "M = igl.massmatrix(v, f, igl.MASSMATRIX_TYPE_VORONOI)\n",
    "Minv_diag = 1 / M.diagonal()\n",
    "Minv = np.diag(Minv_diag)\n",
    "\n",
    "# bi-Laplacian\n",
    "Q2 = Minv @ L @ L\n",
    "Q2_free = Q2[free_indices, :][:, free_indices]\n",
    "Q2_mixed = Q2[free_indices, :][:, handles_indices]\n",
    "rhs = -Q2_mixed @ v[handles_indices]\n",
    "\n",
    "v_smooth = v.copy()\n",
    "for i in range(3): #x,y,z\n",
    "    v_smooth[free_indices, i]    = np.linalg.solve(Q2_free, rhs[:, i])\n",
    "    v_smooth[handles_indices, i] = v[handles_indices, i]\n",
    "\n",
    "B = v_smooth.copy()\n",
    "mp.plot(v_smooth, f, c=labels)"
   ]
  },
  {
   "cell_type": "code",
   "execution_count": null,
   "id": "divine-variety",
   "metadata": {},
   "outputs": [
    {
     "data": {
      "application/vnd.jupyter.widget-view+json": {
       "model_id": "a49987ec50014fc7826b9a6565ab6551",
       "version_major": 2,
       "version_minor": 0
      },
      "text/plain": [
       "Renderer(camera=PerspectiveCamera(children=(DirectionalLight(color='white', intensity=0.6, position=(0.5, 0.19…"
      ]
     },
     "metadata": {},
     "output_type": "display_data"
    },
    {
     "data": {
      "text/plain": [
       "<meshplot.Viewer.Viewer at 0x27a1f2e8a00>"
      ]
     },
     "execution_count": 198,
     "metadata": {},
     "output_type": "execute_result"
    }
   ],
   "source": [
    "# COMPUTING B':\n",
    "def position_deformer(target_pos):\n",
    "    '''Fill in this function to change positions'''\n",
    "    Bc = target_pos.copy()\n",
    "    free = free_indices\n",
    "    handles = handles_indices\n",
    "    \n",
    "    rhs = -Q2_mixed @ Bc[handles]\n",
    "\n",
    "    for i in range(3): #x,y,z\n",
    "        Bc[free, i] = np.linalg.solve(Q2_free, rhs[:, i])\n",
    "        Bc[handles, i] = target_pos[handles_indices, i]\n",
    "\n",
    "    return Bc\n",
    "''' (Optional) Register this function to perform interactive deformation\n",
    "pos_f.deformer = position_deformer\n",
    "'''\n",
    "Bc = position_deformer(B)\n",
    "mp.plot(Bc, f, c=labels)\n",
    "# pos_f.deformer = position_deformer"
   ]
  },
  {
   "cell_type": "code",
   "execution_count": null,
   "id": "ddcf1b1d",
   "metadata": {},
   "outputs": [],
   "source": [
    "handle_vertex_positions = B.copy()\n",
    "# handle_vertex_positions = v.copy()\n",
    "\n",
    "pos_f_saver = np.zeros((labels.max() + 1, 6))\n",
    "def pos_f(s,x,y,z, α, β, γ):\n",
    "    slices = (labels==s)\n",
    "    r = Rotation.from_euler('xyz', [α, β, γ], degrees=True)\n",
    "    v_slice = B[slices] + np.array([[x,y,z]])\n",
    "    center = v_slice.mean(axis=0)\n",
    "    handle_vertex_positions[slices] = r.apply(v_slice - center) + center\n",
    "    pos_f_saver[s - 1] = [x,y,z,α,β,γ]\n",
    "    t0 = time.time()\n",
    "    v_deformed = pos_f.deformer(handle_vertex_positions)\n",
    "    p.update_object(vertices = v_deformed)\n",
    "    t1 = time.time()\n",
    "    print(\"v.shape:\", v.shape)\n",
    "    print(\"labels.shape:\", labels.shape)\n",
    "    print(\"slices shape:\", slices.shape)\n",
    "    print(\"np.sum(slices):\", np.sum(slices))  # How many vertices are selected\n",
    "\n",
    "    print('FPS', 1/(t1 - t0))\n",
    "# pos_f.deformer = lambda x:x\n",
    "pos_f.deformer = position_deformer"
   ]
  },
  {
   "cell_type": "code",
   "execution_count": null,
   "id": "stone-element",
   "metadata": {},
   "outputs": [],
   "source": [
    "def widgets_wrapper():\n",
    "    segment_widget = iw.Dropdown(options=np.arange(labels.max()) + 1)\n",
    "    translate_widget = {i:iw.FloatSlider(min=-1, max=1, value=0) \n",
    "                        for i in 'xyz'}\n",
    "    rotate_widget = {a:iw.FloatSlider(min=-90, max=90, value=0, step=1) \n",
    "                     for a in 'αβγ'}\n",
    "\n",
    "    def update_seg(*args):\n",
    "        (translate_widget['x'].value,translate_widget['y'].value,\n",
    "        translate_widget['z'].value,\n",
    "        rotate_widget['α'].value,rotate_widget['β'].value,\n",
    "        rotate_widget['γ'].value) = pos_f_saver[segment_widget.value]\n",
    "    segment_widget.observe(update_seg, 'value')\n",
    "    widgets_dict = dict(s=segment_widget)\n",
    "    widgets_dict.update(translate_widget)\n",
    "    widgets_dict.update(rotate_widget)\n",
    "    return widgets_dict"
   ]
  },
  {
   "cell_type": "code",
   "execution_count": null,
   "id": "proprietary-prediction",
   "metadata": {},
   "outputs": [
    {
     "data": {
      "application/vnd.jupyter.widget-view+json": {
       "model_id": "c34a543d9fe84355bb0b9474af232107",
       "version_major": 2,
       "version_minor": 0
      },
      "text/plain": [
       "Renderer(camera=PerspectiveCamera(children=(DirectionalLight(color='white', intensity=0.6, position=(0.5, 0.19…"
      ]
     },
     "metadata": {},
     "output_type": "display_data"
    },
    {
     "data": {
      "application/vnd.jupyter.widget-view+json": {
       "model_id": "62a39d69598a426aad2b718dfbc0c786",
       "version_major": 2,
       "version_minor": 0
      },
      "text/plain": [
       "interactive(children=(Dropdown(description='s', options=(1, 2, 3, 4), value=1), FloatSlider(value=0.0, descrip…"
      ]
     },
     "metadata": {},
     "output_type": "display_data"
    },
    {
     "data": {
      "text/plain": [
       "<function __main__.pos_f(s, x, y, z, α, β, γ)>"
      ]
     },
     "execution_count": 201,
     "metadata": {},
     "output_type": "execute_result"
    }
   ],
   "source": [
    "## Widget UI\n",
    "\n",
    "p = mp.plot(handle_vertex_positions, f, c=labels)\n",
    "iw.interact(pos_f,\n",
    "            **widgets_wrapper())"
   ]
  },
  {
   "cell_type": "code",
   "execution_count": null,
   "id": "falling-timer",
   "metadata": {},
   "outputs": [
    {
     "data": {
      "application/vnd.jupyter.widget-view+json": {
       "model_id": "773f3fabb622419bb9eb5c99348a55b8",
       "version_major": 2,
       "version_minor": 0
      },
      "text/plain": [
       "Renderer(camera=PerspectiveCamera(children=(DirectionalLight(color='white', intensity=0.6, position=(174.5, 20…"
      ]
     },
     "metadata": {},
     "output_type": "display_data"
    }
   ],
   "source": [
    "segments_recording = np.load(\"data/woody-hi.label.npy\")\n",
    "v, f = igl.read_triangle_mesh(\"data/woody-hi.off\")\n",
    "p = mp.plot(v, f, c=segments_recording)\n"
   ]
  }
 ],
 "metadata": {
  "kernelspec": {
   "display_name": "gp",
   "language": "python",
   "name": "python3"
  },
  "language_info": {
   "codemirror_mode": {
    "name": "ipython",
    "version": 3
   },
   "file_extension": ".py",
   "mimetype": "text/x-python",
   "name": "python",
   "nbconvert_exporter": "python",
   "pygments_lexer": "ipython3",
   "version": "3.10.16"
  }
 },
 "nbformat": 4,
 "nbformat_minor": 5
}
